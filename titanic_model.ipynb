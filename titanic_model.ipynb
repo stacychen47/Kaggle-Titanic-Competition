{
 "cells": [
  {
   "cell_type": "code",
   "execution_count": 2,
   "metadata": {},
   "outputs": [],
   "source": [
    "from sklearn import preprocessing \n",
    "from sklearn.model_selection import GridSearchCV \n",
    "from sklearn.ensemble import RandomForestClassifier \n",
    "from sklearn.ensemble import RandomForestRegressor\n",
    "\n",
    "import warnings\n",
    "import pandas as pd\n",
    "import numpy as np\n",
    "import matplotlib.pyplot as plt\n",
    "import seaborn as sns\n",
    "\n",
    "%matplotlib inline\n",
    "pd.options.mode.chained_assignment = None"
   ]
  },
  {
   "cell_type": "code",
   "execution_count": 3,
   "metadata": {},
   "outputs": [],
   "source": [
    "train = pd.read_csv(\"Titanic/data/train.csv\")\n",
    "test = pd.read_csv(\"Titanic/data/test.csv\")\n",
    "submit = pd.read_csv('Titanic/data/gender_submission.csv')"
   ]
  },
  {
   "cell_type": "code",
   "execution_count": 4,
   "metadata": {},
   "outputs": [
    {
     "data": {
      "text/html": [
       "<div>\n",
       "<style scoped>\n",
       "    .dataframe tbody tr th:only-of-type {\n",
       "        vertical-align: middle;\n",
       "    }\n",
       "\n",
       "    .dataframe tbody tr th {\n",
       "        vertical-align: top;\n",
       "    }\n",
       "\n",
       "    .dataframe thead th {\n",
       "        text-align: right;\n",
       "    }\n",
       "</style>\n",
       "<table border=\"1\" class=\"dataframe\">\n",
       "  <thead>\n",
       "    <tr style=\"text-align: right;\">\n",
       "      <th></th>\n",
       "      <th>PassengerId</th>\n",
       "      <th>Survived</th>\n",
       "      <th>Pclass</th>\n",
       "      <th>Name</th>\n",
       "      <th>Sex</th>\n",
       "      <th>Age</th>\n",
       "      <th>SibSp</th>\n",
       "      <th>Parch</th>\n",
       "      <th>Ticket</th>\n",
       "      <th>Fare</th>\n",
       "      <th>Cabin</th>\n",
       "      <th>Embarked</th>\n",
       "    </tr>\n",
       "  </thead>\n",
       "  <tbody>\n",
       "    <tr>\n",
       "      <th>0</th>\n",
       "      <td>1</td>\n",
       "      <td>0</td>\n",
       "      <td>3</td>\n",
       "      <td>Braund, Mr. Owen Harris</td>\n",
       "      <td>male</td>\n",
       "      <td>22.0</td>\n",
       "      <td>1</td>\n",
       "      <td>0</td>\n",
       "      <td>A/5 21171</td>\n",
       "      <td>7.2500</td>\n",
       "      <td>NaN</td>\n",
       "      <td>S</td>\n",
       "    </tr>\n",
       "    <tr>\n",
       "      <th>1</th>\n",
       "      <td>2</td>\n",
       "      <td>1</td>\n",
       "      <td>1</td>\n",
       "      <td>Cumings, Mrs. John Bradley (Florence Briggs Th...</td>\n",
       "      <td>female</td>\n",
       "      <td>38.0</td>\n",
       "      <td>1</td>\n",
       "      <td>0</td>\n",
       "      <td>PC 17599</td>\n",
       "      <td>71.2833</td>\n",
       "      <td>C85</td>\n",
       "      <td>C</td>\n",
       "    </tr>\n",
       "    <tr>\n",
       "      <th>2</th>\n",
       "      <td>3</td>\n",
       "      <td>1</td>\n",
       "      <td>3</td>\n",
       "      <td>Heikkinen, Miss. Laina</td>\n",
       "      <td>female</td>\n",
       "      <td>26.0</td>\n",
       "      <td>0</td>\n",
       "      <td>0</td>\n",
       "      <td>STON/O2. 3101282</td>\n",
       "      <td>7.9250</td>\n",
       "      <td>NaN</td>\n",
       "      <td>S</td>\n",
       "    </tr>\n",
       "    <tr>\n",
       "      <th>3</th>\n",
       "      <td>4</td>\n",
       "      <td>1</td>\n",
       "      <td>1</td>\n",
       "      <td>Futrelle, Mrs. Jacques Heath (Lily May Peel)</td>\n",
       "      <td>female</td>\n",
       "      <td>35.0</td>\n",
       "      <td>1</td>\n",
       "      <td>0</td>\n",
       "      <td>113803</td>\n",
       "      <td>53.1000</td>\n",
       "      <td>C123</td>\n",
       "      <td>S</td>\n",
       "    </tr>\n",
       "    <tr>\n",
       "      <th>4</th>\n",
       "      <td>5</td>\n",
       "      <td>0</td>\n",
       "      <td>3</td>\n",
       "      <td>Allen, Mr. William Henry</td>\n",
       "      <td>male</td>\n",
       "      <td>35.0</td>\n",
       "      <td>0</td>\n",
       "      <td>0</td>\n",
       "      <td>373450</td>\n",
       "      <td>8.0500</td>\n",
       "      <td>NaN</td>\n",
       "      <td>S</td>\n",
       "    </tr>\n",
       "  </tbody>\n",
       "</table>\n",
       "</div>"
      ],
      "text/plain": [
       "   PassengerId  Survived  Pclass  \\\n",
       "0            1         0       3   \n",
       "1            2         1       1   \n",
       "2            3         1       3   \n",
       "3            4         1       1   \n",
       "4            5         0       3   \n",
       "\n",
       "                                                Name     Sex   Age  SibSp  \\\n",
       "0                            Braund, Mr. Owen Harris    male  22.0      1   \n",
       "1  Cumings, Mrs. John Bradley (Florence Briggs Th...  female  38.0      1   \n",
       "2                             Heikkinen, Miss. Laina  female  26.0      0   \n",
       "3       Futrelle, Mrs. Jacques Heath (Lily May Peel)  female  35.0      1   \n",
       "4                           Allen, Mr. William Henry    male  35.0      0   \n",
       "\n",
       "   Parch            Ticket     Fare Cabin Embarked  \n",
       "0      0         A/5 21171   7.2500   NaN        S  \n",
       "1      0          PC 17599  71.2833   C85        C  \n",
       "2      0  STON/O2. 3101282   7.9250   NaN        S  \n",
       "3      0            113803  53.1000  C123        S  \n",
       "4      0            373450   8.0500   NaN        S  "
      ]
     },
     "execution_count": 4,
     "metadata": {},
     "output_type": "execute_result"
    }
   ],
   "source": [
    "train.head(5)"
   ]
  },
  {
   "cell_type": "markdown",
   "metadata": {},
   "source": [
    "## Info & Describe"
   ]
  },
  {
   "cell_type": "code",
   "execution_count": 5,
   "metadata": {},
   "outputs": [
    {
     "name": "stdout",
     "output_type": "stream",
     "text": [
      "<class 'pandas.core.frame.DataFrame'>\n",
      "RangeIndex: 891 entries, 0 to 890\n",
      "Data columns (total 12 columns):\n",
      " #   Column       Non-Null Count  Dtype  \n",
      "---  ------       --------------  -----  \n",
      " 0   PassengerId  891 non-null    int64  \n",
      " 1   Survived     891 non-null    int64  \n",
      " 2   Pclass       891 non-null    int64  \n",
      " 3   Name         891 non-null    object \n",
      " 4   Sex          891 non-null    object \n",
      " 5   Age          714 non-null    float64\n",
      " 6   SibSp        891 non-null    int64  \n",
      " 7   Parch        891 non-null    int64  \n",
      " 8   Ticket       891 non-null    object \n",
      " 9   Fare         891 non-null    float64\n",
      " 10  Cabin        204 non-null    object \n",
      " 11  Embarked     889 non-null    object \n",
      "dtypes: float64(2), int64(5), object(5)\n",
      "memory usage: 83.7+ KB\n"
     ]
    }
   ],
   "source": [
    "train.info()"
   ]
  },
  {
   "cell_type": "code",
   "execution_count": 6,
   "metadata": {},
   "outputs": [
    {
     "data": {
      "text/html": [
       "<div>\n",
       "<style scoped>\n",
       "    .dataframe tbody tr th:only-of-type {\n",
       "        vertical-align: middle;\n",
       "    }\n",
       "\n",
       "    .dataframe tbody tr th {\n",
       "        vertical-align: top;\n",
       "    }\n",
       "\n",
       "    .dataframe thead th {\n",
       "        text-align: right;\n",
       "    }\n",
       "</style>\n",
       "<table border=\"1\" class=\"dataframe\">\n",
       "  <thead>\n",
       "    <tr style=\"text-align: right;\">\n",
       "      <th></th>\n",
       "      <th>PassengerId</th>\n",
       "      <th>Survived</th>\n",
       "      <th>Pclass</th>\n",
       "      <th>Age</th>\n",
       "      <th>SibSp</th>\n",
       "      <th>Parch</th>\n",
       "      <th>Fare</th>\n",
       "    </tr>\n",
       "  </thead>\n",
       "  <tbody>\n",
       "    <tr>\n",
       "      <th>count</th>\n",
       "      <td>891.000000</td>\n",
       "      <td>891.000000</td>\n",
       "      <td>891.000000</td>\n",
       "      <td>714.000000</td>\n",
       "      <td>891.000000</td>\n",
       "      <td>891.000000</td>\n",
       "      <td>891.000000</td>\n",
       "    </tr>\n",
       "    <tr>\n",
       "      <th>mean</th>\n",
       "      <td>446.000000</td>\n",
       "      <td>0.383838</td>\n",
       "      <td>2.308642</td>\n",
       "      <td>29.699118</td>\n",
       "      <td>0.523008</td>\n",
       "      <td>0.381594</td>\n",
       "      <td>32.204208</td>\n",
       "    </tr>\n",
       "    <tr>\n",
       "      <th>std</th>\n",
       "      <td>257.353842</td>\n",
       "      <td>0.486592</td>\n",
       "      <td>0.836071</td>\n",
       "      <td>14.526497</td>\n",
       "      <td>1.102743</td>\n",
       "      <td>0.806057</td>\n",
       "      <td>49.693429</td>\n",
       "    </tr>\n",
       "    <tr>\n",
       "      <th>min</th>\n",
       "      <td>1.000000</td>\n",
       "      <td>0.000000</td>\n",
       "      <td>1.000000</td>\n",
       "      <td>0.420000</td>\n",
       "      <td>0.000000</td>\n",
       "      <td>0.000000</td>\n",
       "      <td>0.000000</td>\n",
       "    </tr>\n",
       "    <tr>\n",
       "      <th>25%</th>\n",
       "      <td>223.500000</td>\n",
       "      <td>0.000000</td>\n",
       "      <td>2.000000</td>\n",
       "      <td>20.125000</td>\n",
       "      <td>0.000000</td>\n",
       "      <td>0.000000</td>\n",
       "      <td>7.910400</td>\n",
       "    </tr>\n",
       "    <tr>\n",
       "      <th>50%</th>\n",
       "      <td>446.000000</td>\n",
       "      <td>0.000000</td>\n",
       "      <td>3.000000</td>\n",
       "      <td>28.000000</td>\n",
       "      <td>0.000000</td>\n",
       "      <td>0.000000</td>\n",
       "      <td>14.454200</td>\n",
       "    </tr>\n",
       "    <tr>\n",
       "      <th>75%</th>\n",
       "      <td>668.500000</td>\n",
       "      <td>1.000000</td>\n",
       "      <td>3.000000</td>\n",
       "      <td>38.000000</td>\n",
       "      <td>1.000000</td>\n",
       "      <td>0.000000</td>\n",
       "      <td>31.000000</td>\n",
       "    </tr>\n",
       "    <tr>\n",
       "      <th>max</th>\n",
       "      <td>891.000000</td>\n",
       "      <td>1.000000</td>\n",
       "      <td>3.000000</td>\n",
       "      <td>80.000000</td>\n",
       "      <td>8.000000</td>\n",
       "      <td>6.000000</td>\n",
       "      <td>512.329200</td>\n",
       "    </tr>\n",
       "  </tbody>\n",
       "</table>\n",
       "</div>"
      ],
      "text/plain": [
       "       PassengerId    Survived      Pclass         Age       SibSp  \\\n",
       "count   891.000000  891.000000  891.000000  714.000000  891.000000   \n",
       "mean    446.000000    0.383838    2.308642   29.699118    0.523008   \n",
       "std     257.353842    0.486592    0.836071   14.526497    1.102743   \n",
       "min       1.000000    0.000000    1.000000    0.420000    0.000000   \n",
       "25%     223.500000    0.000000    2.000000   20.125000    0.000000   \n",
       "50%     446.000000    0.000000    3.000000   28.000000    0.000000   \n",
       "75%     668.500000    1.000000    3.000000   38.000000    1.000000   \n",
       "max     891.000000    1.000000    3.000000   80.000000    8.000000   \n",
       "\n",
       "            Parch        Fare  \n",
       "count  891.000000  891.000000  \n",
       "mean     0.381594   32.204208  \n",
       "std      0.806057   49.693429  \n",
       "min      0.000000    0.000000  \n",
       "25%      0.000000    7.910400  \n",
       "50%      0.000000   14.454200  \n",
       "75%      0.000000   31.000000  \n",
       "max      6.000000  512.329200  "
      ]
     },
     "execution_count": 6,
     "metadata": {},
     "output_type": "execute_result"
    }
   ],
   "source": [
    "train.describe()"
   ]
  },
  {
   "cell_type": "markdown",
   "metadata": {},
   "source": [
    "## Combine Train and Test Data"
   ]
  },
  {
   "cell_type": "code",
   "execution_count": 7,
   "metadata": {},
   "outputs": [
    {
     "data": {
      "text/html": [
       "<div>\n",
       "<style scoped>\n",
       "    .dataframe tbody tr th:only-of-type {\n",
       "        vertical-align: middle;\n",
       "    }\n",
       "\n",
       "    .dataframe tbody tr th {\n",
       "        vertical-align: top;\n",
       "    }\n",
       "\n",
       "    .dataframe thead th {\n",
       "        text-align: right;\n",
       "    }\n",
       "</style>\n",
       "<table border=\"1\" class=\"dataframe\">\n",
       "  <thead>\n",
       "    <tr style=\"text-align: right;\">\n",
       "      <th></th>\n",
       "      <th>PassengerId</th>\n",
       "      <th>Survived</th>\n",
       "      <th>Pclass</th>\n",
       "      <th>Name</th>\n",
       "      <th>Sex</th>\n",
       "      <th>Age</th>\n",
       "      <th>SibSp</th>\n",
       "      <th>Parch</th>\n",
       "      <th>Ticket</th>\n",
       "      <th>Fare</th>\n",
       "      <th>Cabin</th>\n",
       "      <th>Embarked</th>\n",
       "    </tr>\n",
       "  </thead>\n",
       "  <tbody>\n",
       "    <tr>\n",
       "      <th>0</th>\n",
       "      <td>1</td>\n",
       "      <td>0.0</td>\n",
       "      <td>3</td>\n",
       "      <td>Braund, Mr. Owen Harris</td>\n",
       "      <td>male</td>\n",
       "      <td>22.0</td>\n",
       "      <td>1</td>\n",
       "      <td>0</td>\n",
       "      <td>A/5 21171</td>\n",
       "      <td>7.2500</td>\n",
       "      <td>NaN</td>\n",
       "      <td>S</td>\n",
       "    </tr>\n",
       "    <tr>\n",
       "      <th>1</th>\n",
       "      <td>2</td>\n",
       "      <td>1.0</td>\n",
       "      <td>1</td>\n",
       "      <td>Cumings, Mrs. John Bradley (Florence Briggs Th...</td>\n",
       "      <td>female</td>\n",
       "      <td>38.0</td>\n",
       "      <td>1</td>\n",
       "      <td>0</td>\n",
       "      <td>PC 17599</td>\n",
       "      <td>71.2833</td>\n",
       "      <td>C85</td>\n",
       "      <td>C</td>\n",
       "    </tr>\n",
       "    <tr>\n",
       "      <th>2</th>\n",
       "      <td>3</td>\n",
       "      <td>1.0</td>\n",
       "      <td>3</td>\n",
       "      <td>Heikkinen, Miss. Laina</td>\n",
       "      <td>female</td>\n",
       "      <td>26.0</td>\n",
       "      <td>0</td>\n",
       "      <td>0</td>\n",
       "      <td>STON/O2. 3101282</td>\n",
       "      <td>7.9250</td>\n",
       "      <td>NaN</td>\n",
       "      <td>S</td>\n",
       "    </tr>\n",
       "    <tr>\n",
       "      <th>3</th>\n",
       "      <td>4</td>\n",
       "      <td>1.0</td>\n",
       "      <td>1</td>\n",
       "      <td>Futrelle, Mrs. Jacques Heath (Lily May Peel)</td>\n",
       "      <td>female</td>\n",
       "      <td>35.0</td>\n",
       "      <td>1</td>\n",
       "      <td>0</td>\n",
       "      <td>113803</td>\n",
       "      <td>53.1000</td>\n",
       "      <td>C123</td>\n",
       "      <td>S</td>\n",
       "    </tr>\n",
       "    <tr>\n",
       "      <th>4</th>\n",
       "      <td>5</td>\n",
       "      <td>0.0</td>\n",
       "      <td>3</td>\n",
       "      <td>Allen, Mr. William Henry</td>\n",
       "      <td>male</td>\n",
       "      <td>35.0</td>\n",
       "      <td>0</td>\n",
       "      <td>0</td>\n",
       "      <td>373450</td>\n",
       "      <td>8.0500</td>\n",
       "      <td>NaN</td>\n",
       "      <td>S</td>\n",
       "    </tr>\n",
       "    <tr>\n",
       "      <th>...</th>\n",
       "      <td>...</td>\n",
       "      <td>...</td>\n",
       "      <td>...</td>\n",
       "      <td>...</td>\n",
       "      <td>...</td>\n",
       "      <td>...</td>\n",
       "      <td>...</td>\n",
       "      <td>...</td>\n",
       "      <td>...</td>\n",
       "      <td>...</td>\n",
       "      <td>...</td>\n",
       "      <td>...</td>\n",
       "    </tr>\n",
       "    <tr>\n",
       "      <th>413</th>\n",
       "      <td>1305</td>\n",
       "      <td>NaN</td>\n",
       "      <td>3</td>\n",
       "      <td>Spector, Mr. Woolf</td>\n",
       "      <td>male</td>\n",
       "      <td>NaN</td>\n",
       "      <td>0</td>\n",
       "      <td>0</td>\n",
       "      <td>A.5. 3236</td>\n",
       "      <td>8.0500</td>\n",
       "      <td>NaN</td>\n",
       "      <td>S</td>\n",
       "    </tr>\n",
       "    <tr>\n",
       "      <th>414</th>\n",
       "      <td>1306</td>\n",
       "      <td>NaN</td>\n",
       "      <td>1</td>\n",
       "      <td>Oliva y Ocana, Dona. Fermina</td>\n",
       "      <td>female</td>\n",
       "      <td>39.0</td>\n",
       "      <td>0</td>\n",
       "      <td>0</td>\n",
       "      <td>PC 17758</td>\n",
       "      <td>108.9000</td>\n",
       "      <td>C105</td>\n",
       "      <td>C</td>\n",
       "    </tr>\n",
       "    <tr>\n",
       "      <th>415</th>\n",
       "      <td>1307</td>\n",
       "      <td>NaN</td>\n",
       "      <td>3</td>\n",
       "      <td>Saether, Mr. Simon Sivertsen</td>\n",
       "      <td>male</td>\n",
       "      <td>38.5</td>\n",
       "      <td>0</td>\n",
       "      <td>0</td>\n",
       "      <td>SOTON/O.Q. 3101262</td>\n",
       "      <td>7.2500</td>\n",
       "      <td>NaN</td>\n",
       "      <td>S</td>\n",
       "    </tr>\n",
       "    <tr>\n",
       "      <th>416</th>\n",
       "      <td>1308</td>\n",
       "      <td>NaN</td>\n",
       "      <td>3</td>\n",
       "      <td>Ware, Mr. Frederick</td>\n",
       "      <td>male</td>\n",
       "      <td>NaN</td>\n",
       "      <td>0</td>\n",
       "      <td>0</td>\n",
       "      <td>359309</td>\n",
       "      <td>8.0500</td>\n",
       "      <td>NaN</td>\n",
       "      <td>S</td>\n",
       "    </tr>\n",
       "    <tr>\n",
       "      <th>417</th>\n",
       "      <td>1309</td>\n",
       "      <td>NaN</td>\n",
       "      <td>3</td>\n",
       "      <td>Peter, Master. Michael J</td>\n",
       "      <td>male</td>\n",
       "      <td>NaN</td>\n",
       "      <td>1</td>\n",
       "      <td>1</td>\n",
       "      <td>2668</td>\n",
       "      <td>22.3583</td>\n",
       "      <td>NaN</td>\n",
       "      <td>C</td>\n",
       "    </tr>\n",
       "  </tbody>\n",
       "</table>\n",
       "<p>1309 rows × 12 columns</p>\n",
       "</div>"
      ],
      "text/plain": [
       "     PassengerId  Survived  Pclass  \\\n",
       "0              1       0.0       3   \n",
       "1              2       1.0       1   \n",
       "2              3       1.0       3   \n",
       "3              4       1.0       1   \n",
       "4              5       0.0       3   \n",
       "..           ...       ...     ...   \n",
       "413         1305       NaN       3   \n",
       "414         1306       NaN       1   \n",
       "415         1307       NaN       3   \n",
       "416         1308       NaN       3   \n",
       "417         1309       NaN       3   \n",
       "\n",
       "                                                  Name     Sex   Age  SibSp  \\\n",
       "0                              Braund, Mr. Owen Harris    male  22.0      1   \n",
       "1    Cumings, Mrs. John Bradley (Florence Briggs Th...  female  38.0      1   \n",
       "2                               Heikkinen, Miss. Laina  female  26.0      0   \n",
       "3         Futrelle, Mrs. Jacques Heath (Lily May Peel)  female  35.0      1   \n",
       "4                             Allen, Mr. William Henry    male  35.0      0   \n",
       "..                                                 ...     ...   ...    ...   \n",
       "413                                 Spector, Mr. Woolf    male   NaN      0   \n",
       "414                       Oliva y Ocana, Dona. Fermina  female  39.0      0   \n",
       "415                       Saether, Mr. Simon Sivertsen    male  38.5      0   \n",
       "416                                Ware, Mr. Frederick    male   NaN      0   \n",
       "417                           Peter, Master. Michael J    male   NaN      1   \n",
       "\n",
       "     Parch              Ticket      Fare Cabin Embarked  \n",
       "0        0           A/5 21171    7.2500   NaN        S  \n",
       "1        0            PC 17599   71.2833   C85        C  \n",
       "2        0    STON/O2. 3101282    7.9250   NaN        S  \n",
       "3        0              113803   53.1000  C123        S  \n",
       "4        0              373450    8.0500   NaN        S  \n",
       "..     ...                 ...       ...   ...      ...  \n",
       "413      0           A.5. 3236    8.0500   NaN        S  \n",
       "414      0            PC 17758  108.9000  C105        C  \n",
       "415      0  SOTON/O.Q. 3101262    7.2500   NaN        S  \n",
       "416      0              359309    8.0500   NaN        S  \n",
       "417      1                2668   22.3583   NaN        C  \n",
       "\n",
       "[1309 rows x 12 columns]"
      ]
     },
     "execution_count": 7,
     "metadata": {},
     "output_type": "execute_result"
    }
   ],
   "source": [
    "data = train.append(test)\n",
    "data"
   ]
  },
  {
   "cell_type": "code",
   "execution_count": 8,
   "metadata": {},
   "outputs": [],
   "source": [
    "data.reset_index(inplace=True, drop=True)"
   ]
  },
  {
   "cell_type": "code",
   "execution_count": 9,
   "metadata": {},
   "outputs": [
    {
     "data": {
      "text/html": [
       "<div>\n",
       "<style scoped>\n",
       "    .dataframe tbody tr th:only-of-type {\n",
       "        vertical-align: middle;\n",
       "    }\n",
       "\n",
       "    .dataframe tbody tr th {\n",
       "        vertical-align: top;\n",
       "    }\n",
       "\n",
       "    .dataframe thead th {\n",
       "        text-align: right;\n",
       "    }\n",
       "</style>\n",
       "<table border=\"1\" class=\"dataframe\">\n",
       "  <thead>\n",
       "    <tr style=\"text-align: right;\">\n",
       "      <th></th>\n",
       "      <th>PassengerId</th>\n",
       "      <th>Survived</th>\n",
       "      <th>Pclass</th>\n",
       "      <th>Name</th>\n",
       "      <th>Sex</th>\n",
       "      <th>Age</th>\n",
       "      <th>SibSp</th>\n",
       "      <th>Parch</th>\n",
       "      <th>Ticket</th>\n",
       "      <th>Fare</th>\n",
       "      <th>Cabin</th>\n",
       "      <th>Embarked</th>\n",
       "    </tr>\n",
       "  </thead>\n",
       "  <tbody>\n",
       "    <tr>\n",
       "      <th>0</th>\n",
       "      <td>1</td>\n",
       "      <td>0.0</td>\n",
       "      <td>3</td>\n",
       "      <td>Braund, Mr. Owen Harris</td>\n",
       "      <td>male</td>\n",
       "      <td>22.0</td>\n",
       "      <td>1</td>\n",
       "      <td>0</td>\n",
       "      <td>A/5 21171</td>\n",
       "      <td>7.2500</td>\n",
       "      <td>NaN</td>\n",
       "      <td>S</td>\n",
       "    </tr>\n",
       "    <tr>\n",
       "      <th>1</th>\n",
       "      <td>2</td>\n",
       "      <td>1.0</td>\n",
       "      <td>1</td>\n",
       "      <td>Cumings, Mrs. John Bradley (Florence Briggs Th...</td>\n",
       "      <td>female</td>\n",
       "      <td>38.0</td>\n",
       "      <td>1</td>\n",
       "      <td>0</td>\n",
       "      <td>PC 17599</td>\n",
       "      <td>71.2833</td>\n",
       "      <td>C85</td>\n",
       "      <td>C</td>\n",
       "    </tr>\n",
       "    <tr>\n",
       "      <th>2</th>\n",
       "      <td>3</td>\n",
       "      <td>1.0</td>\n",
       "      <td>3</td>\n",
       "      <td>Heikkinen, Miss. Laina</td>\n",
       "      <td>female</td>\n",
       "      <td>26.0</td>\n",
       "      <td>0</td>\n",
       "      <td>0</td>\n",
       "      <td>STON/O2. 3101282</td>\n",
       "      <td>7.9250</td>\n",
       "      <td>NaN</td>\n",
       "      <td>S</td>\n",
       "    </tr>\n",
       "    <tr>\n",
       "      <th>3</th>\n",
       "      <td>4</td>\n",
       "      <td>1.0</td>\n",
       "      <td>1</td>\n",
       "      <td>Futrelle, Mrs. Jacques Heath (Lily May Peel)</td>\n",
       "      <td>female</td>\n",
       "      <td>35.0</td>\n",
       "      <td>1</td>\n",
       "      <td>0</td>\n",
       "      <td>113803</td>\n",
       "      <td>53.1000</td>\n",
       "      <td>C123</td>\n",
       "      <td>S</td>\n",
       "    </tr>\n",
       "    <tr>\n",
       "      <th>4</th>\n",
       "      <td>5</td>\n",
       "      <td>0.0</td>\n",
       "      <td>3</td>\n",
       "      <td>Allen, Mr. William Henry</td>\n",
       "      <td>male</td>\n",
       "      <td>35.0</td>\n",
       "      <td>0</td>\n",
       "      <td>0</td>\n",
       "      <td>373450</td>\n",
       "      <td>8.0500</td>\n",
       "      <td>NaN</td>\n",
       "      <td>S</td>\n",
       "    </tr>\n",
       "    <tr>\n",
       "      <th>...</th>\n",
       "      <td>...</td>\n",
       "      <td>...</td>\n",
       "      <td>...</td>\n",
       "      <td>...</td>\n",
       "      <td>...</td>\n",
       "      <td>...</td>\n",
       "      <td>...</td>\n",
       "      <td>...</td>\n",
       "      <td>...</td>\n",
       "      <td>...</td>\n",
       "      <td>...</td>\n",
       "      <td>...</td>\n",
       "    </tr>\n",
       "    <tr>\n",
       "      <th>1304</th>\n",
       "      <td>1305</td>\n",
       "      <td>NaN</td>\n",
       "      <td>3</td>\n",
       "      <td>Spector, Mr. Woolf</td>\n",
       "      <td>male</td>\n",
       "      <td>NaN</td>\n",
       "      <td>0</td>\n",
       "      <td>0</td>\n",
       "      <td>A.5. 3236</td>\n",
       "      <td>8.0500</td>\n",
       "      <td>NaN</td>\n",
       "      <td>S</td>\n",
       "    </tr>\n",
       "    <tr>\n",
       "      <th>1305</th>\n",
       "      <td>1306</td>\n",
       "      <td>NaN</td>\n",
       "      <td>1</td>\n",
       "      <td>Oliva y Ocana, Dona. Fermina</td>\n",
       "      <td>female</td>\n",
       "      <td>39.0</td>\n",
       "      <td>0</td>\n",
       "      <td>0</td>\n",
       "      <td>PC 17758</td>\n",
       "      <td>108.9000</td>\n",
       "      <td>C105</td>\n",
       "      <td>C</td>\n",
       "    </tr>\n",
       "    <tr>\n",
       "      <th>1306</th>\n",
       "      <td>1307</td>\n",
       "      <td>NaN</td>\n",
       "      <td>3</td>\n",
       "      <td>Saether, Mr. Simon Sivertsen</td>\n",
       "      <td>male</td>\n",
       "      <td>38.5</td>\n",
       "      <td>0</td>\n",
       "      <td>0</td>\n",
       "      <td>SOTON/O.Q. 3101262</td>\n",
       "      <td>7.2500</td>\n",
       "      <td>NaN</td>\n",
       "      <td>S</td>\n",
       "    </tr>\n",
       "    <tr>\n",
       "      <th>1307</th>\n",
       "      <td>1308</td>\n",
       "      <td>NaN</td>\n",
       "      <td>3</td>\n",
       "      <td>Ware, Mr. Frederick</td>\n",
       "      <td>male</td>\n",
       "      <td>NaN</td>\n",
       "      <td>0</td>\n",
       "      <td>0</td>\n",
       "      <td>359309</td>\n",
       "      <td>8.0500</td>\n",
       "      <td>NaN</td>\n",
       "      <td>S</td>\n",
       "    </tr>\n",
       "    <tr>\n",
       "      <th>1308</th>\n",
       "      <td>1309</td>\n",
       "      <td>NaN</td>\n",
       "      <td>3</td>\n",
       "      <td>Peter, Master. Michael J</td>\n",
       "      <td>male</td>\n",
       "      <td>NaN</td>\n",
       "      <td>1</td>\n",
       "      <td>1</td>\n",
       "      <td>2668</td>\n",
       "      <td>22.3583</td>\n",
       "      <td>NaN</td>\n",
       "      <td>C</td>\n",
       "    </tr>\n",
       "  </tbody>\n",
       "</table>\n",
       "<p>1309 rows × 12 columns</p>\n",
       "</div>"
      ],
      "text/plain": [
       "      PassengerId  Survived  Pclass  \\\n",
       "0               1       0.0       3   \n",
       "1               2       1.0       1   \n",
       "2               3       1.0       3   \n",
       "3               4       1.0       1   \n",
       "4               5       0.0       3   \n",
       "...           ...       ...     ...   \n",
       "1304         1305       NaN       3   \n",
       "1305         1306       NaN       1   \n",
       "1306         1307       NaN       3   \n",
       "1307         1308       NaN       3   \n",
       "1308         1309       NaN       3   \n",
       "\n",
       "                                                   Name     Sex   Age  SibSp  \\\n",
       "0                               Braund, Mr. Owen Harris    male  22.0      1   \n",
       "1     Cumings, Mrs. John Bradley (Florence Briggs Th...  female  38.0      1   \n",
       "2                                Heikkinen, Miss. Laina  female  26.0      0   \n",
       "3          Futrelle, Mrs. Jacques Heath (Lily May Peel)  female  35.0      1   \n",
       "4                              Allen, Mr. William Henry    male  35.0      0   \n",
       "...                                                 ...     ...   ...    ...   \n",
       "1304                                 Spector, Mr. Woolf    male   NaN      0   \n",
       "1305                       Oliva y Ocana, Dona. Fermina  female  39.0      0   \n",
       "1306                       Saether, Mr. Simon Sivertsen    male  38.5      0   \n",
       "1307                                Ware, Mr. Frederick    male   NaN      0   \n",
       "1308                           Peter, Master. Michael J    male   NaN      1   \n",
       "\n",
       "      Parch              Ticket      Fare Cabin Embarked  \n",
       "0         0           A/5 21171    7.2500   NaN        S  \n",
       "1         0            PC 17599   71.2833   C85        C  \n",
       "2         0    STON/O2. 3101282    7.9250   NaN        S  \n",
       "3         0              113803   53.1000  C123        S  \n",
       "4         0              373450    8.0500   NaN        S  \n",
       "...     ...                 ...       ...   ...      ...  \n",
       "1304      0           A.5. 3236    8.0500   NaN        S  \n",
       "1305      0            PC 17758  108.9000  C105        C  \n",
       "1306      0  SOTON/O.Q. 3101262    7.2500   NaN        S  \n",
       "1307      0              359309    8.0500   NaN        S  \n",
       "1308      1                2668   22.3583   NaN        C  \n",
       "\n",
       "[1309 rows x 12 columns]"
      ]
     },
     "execution_count": 9,
     "metadata": {},
     "output_type": "execute_result"
    }
   ],
   "source": [
    "data"
   ]
  },
  {
   "cell_type": "markdown",
   "metadata": {},
   "source": [
    "# Data Analysis"
   ]
  },
  {
   "cell_type": "code",
   "execution_count": 10,
   "metadata": {},
   "outputs": [
    {
     "data": {
      "text/plain": [
       "<AxesSubplot:ylabel='count'>"
      ]
     },
     "execution_count": 10,
     "metadata": {},
     "output_type": "execute_result"
    },
    {
     "data": {
      "image/png": "[encoded data removed]",
      "text/plain": [
       "<Figure size 432x288 with 1 Axes>"
      ]
     },
     "metadata": {
      "needs_background": "light"
     },
     "output_type": "display_data"
    }
   ],
   "source": [
    "sns.countplot(data = data['Survived'])"
   ]
  },
  {
   "cell_type": "code",
   "execution_count": 66,
   "metadata": {},
   "outputs": [
    {
     "name": "stderr",
     "output_type": "stream",
     "text": [
      "C:\\Users\\Becky\\anaconda3\\lib\\site-packages\\seaborn\\_decorators.py:36: FutureWarning: Pass the following variable as a keyword arg: x. From version 0.12, the only valid positional argument will be `data`, and passing other arguments without an explicit keyword will result in an error or misinterpretation.\n",
      "  warnings.warn(\n"
     ]
    },
    {
     "data": {
      "text/plain": [
       "<AxesSubplot:xlabel='Pclass', ylabel='count'>"
      ]
     },
     "execution_count": 66,
     "metadata": {},
     "output_type": "execute_result"
    },
    {
     "data": {
      "image/png": "[encoded data removed]",
      "text/plain": [
       "<Figure size 432x288 with 1 Axes>"
      ]
     },
     "metadata": {
      "needs_background": "light"
     },
     "output_type": "display_data"
    }
   ],
   "source": [
    "sns.countplot(data['Pclass'], hue = data['Survived'])"
   ]
  },
  {
   "cell_type": "code",
   "execution_count": 12,
   "metadata": {},
   "outputs": [
    {
     "name": "stderr",
     "output_type": "stream",
     "text": [
      "C:\\Users\\Becky\\anaconda3\\lib\\site-packages\\seaborn\\_decorators.py:36: FutureWarning: Pass the following variable as a keyword arg: x. From version 0.12, the only valid positional argument will be `data`, and passing other arguments without an explicit keyword will result in an error or misinterpretation.\n",
      "  warnings.warn(\n"
     ]
    },
    {
     "data": {
      "text/plain": [
       "<AxesSubplot:xlabel='Sex', ylabel='count'>"
      ]
     },
     "execution_count": 12,
     "metadata": {},
     "output_type": "execute_result"
    },
    {
     "data": {
      "image/png": "[encoded data removed]",
      "text/plain": [
       "<Figure size 432x288 with 1 Axes>"
      ]
     },
     "metadata": {
      "needs_background": "light"
     },
     "output_type": "display_data"
    }
   ],
   "source": [
    "sns.countplot(data['Sex'], hue=data['Survived'])"
   ]
  },
  {
   "cell_type": "code",
   "execution_count": 13,
   "metadata": {},
   "outputs": [
    {
     "name": "stderr",
     "output_type": "stream",
     "text": [
      "C:\\Users\\Becky\\anaconda3\\lib\\site-packages\\seaborn\\_decorators.py:36: FutureWarning: Pass the following variable as a keyword arg: x. From version 0.12, the only valid positional argument will be `data`, and passing other arguments without an explicit keyword will result in an error or misinterpretation.\n",
      "  warnings.warn(\n"
     ]
    },
    {
     "data": {
      "text/plain": [
       "<AxesSubplot:xlabel='Embarked', ylabel='count'>"
      ]
     },
     "execution_count": 13,
     "metadata": {},
     "output_type": "execute_result"
    },
    {
     "data": {
      "image/png": "[encoded data removed]",
      "text/plain": [
       "<Figure size 432x288 with 1 Axes>"
      ]
     },
     "metadata": {
      "needs_background": "light"
     },
     "output_type": "display_data"
    }
   ],
   "source": [
    "sns.countplot(data['Embarked'], hue=data['Survived'])"
   ]
  },
  {
   "cell_type": "markdown",
   "metadata": {},
   "source": [
    "## plot continous variables"
   ]
  },
  {
   "cell_type": "code",
   "execution_count": 69,
   "metadata": {},
   "outputs": [
    {
     "name": "stderr",
     "output_type": "stream",
     "text": [
      "C:\\Users\\Becky\\anaconda3\\lib\\site-packages\\seaborn\\distributions.py:2551: FutureWarning: `distplot` is a deprecated function and will be removed in a future version. Please adapt your code to use either `displot` (a figure-level function with similar flexibility) or `histplot` (an axes-level function for histograms).\n",
      "  warnings.warn(msg, FutureWarning)\n"
     ]
    },
    {
     "data": {
      "text/plain": [
       "<seaborn.axisgrid.FacetGrid at 0x24978c0a460>"
      ]
     },
     "execution_count": 69,
     "metadata": {},
     "output_type": "execute_result"
    },
    {
     "data": {
      "image/png": "[encoded data removed]",
      "text/plain": [
       "<Figure size 432x216 with 2 Axes>"
      ]
     },
     "metadata": {
      "needs_background": "light"
     },
     "output_type": "display_data"
    }
   ],
   "source": [
    "g = sns.FacetGrid(data = data, col='Survived')\n",
    "g.map(sns.distplot,'Age', kde=False)"
   ]
  },
  {
   "cell_type": "code",
   "execution_count": 71,
   "metadata": {},
   "outputs": [
    {
     "name": "stderr",
     "output_type": "stream",
     "text": [
      "C:\\Users\\Becky\\anaconda3\\lib\\site-packages\\seaborn\\distributions.py:2551: FutureWarning: `distplot` is a deprecated function and will be removed in a future version. Please adapt your code to use either `displot` (a figure-level function with similar flexibility) or `histplot` (an axes-level function for histograms).\n",
      "  warnings.warn(msg, FutureWarning)\n"
     ]
    },
    {
     "data": {
      "text/plain": [
       "<seaborn.axisgrid.FacetGrid at 0x24978acd1f0>"
      ]
     },
     "execution_count": 71,
     "metadata": {},
     "output_type": "execute_result"
    },
    {
     "data": {
      "image/png": "[encoded data removed]",
      "text/plain": [
       "<Figure size 432x216 with 2 Axes>"
      ]
     },
     "metadata": {
      "needs_background": "light"
     },
     "output_type": "display_data"
    }
   ],
   "source": [
    "g = sns.FacetGrid(data = data, col='Survived')\n",
    "g.map(sns.distplot,'Fare', kde=False)"
   ]
  },
  {
   "cell_type": "code",
   "execution_count": 16,
   "metadata": {},
   "outputs": [
    {
     "name": "stderr",
     "output_type": "stream",
     "text": [
      "C:\\Users\\Becky\\anaconda3\\lib\\site-packages\\seaborn\\distributions.py:2551: FutureWarning: `distplot` is a deprecated function and will be removed in a future version. Please adapt your code to use either `displot` (a figure-level function with similar flexibility) or `histplot` (an axes-level function for histograms).\n",
      "  warnings.warn(msg, FutureWarning)\n"
     ]
    },
    {
     "data": {
      "text/plain": [
       "<seaborn.axisgrid.FacetGrid at 0x2497702c970>"
      ]
     },
     "execution_count": 16,
     "metadata": {},
     "output_type": "execute_result"
    },
    {
     "data": {
      "image/png": "[encoded data removed]",
      "text/plain": [
       "<Figure size 432x216 with 2 Axes>"
      ]
     },
     "metadata": {
      "needs_background": "light"
     },
     "output_type": "display_data"
    }
   ],
   "source": [
    "g = sns.FacetGrid(data, col='Survived')\n",
    "g.map(sns.distplot, 'Parch', kde=False)"
   ]
  },
  {
   "cell_type": "code",
   "execution_count": 17,
   "metadata": {},
   "outputs": [
    {
     "name": "stderr",
     "output_type": "stream",
     "text": [
      "C:\\Users\\Becky\\anaconda3\\lib\\site-packages\\seaborn\\distributions.py:2551: FutureWarning: `distplot` is a deprecated function and will be removed in a future version. Please adapt your code to use either `displot` (a figure-level function with similar flexibility) or `histplot` (an axes-level function for histograms).\n",
      "  warnings.warn(msg, FutureWarning)\n"
     ]
    },
    {
     "data": {
      "text/plain": [
       "<seaborn.axisgrid.FacetGrid at 0x24977039310>"
      ]
     },
     "execution_count": 17,
     "metadata": {},
     "output_type": "execute_result"
    },
    {
     "data": {
      "image/png": "[encoded data removed]",
      "text/plain": [
       "<Figure size 432x216 with 2 Axes>"
      ]
     },
     "metadata": {
      "needs_background": "light"
     },
     "output_type": "display_data"
    }
   ],
   "source": [
    "g = sns.FacetGrid(data, col='Survived')\n",
    "g.map(sns.distplot, 'SibSp', kde=False)"
   ]
  },
  {
   "cell_type": "markdown",
   "metadata": {},
   "source": [
    "## Combine Parch&SibSp to Family_Size"
   ]
  },
  {
   "cell_type": "code",
   "execution_count": 18,
   "metadata": {},
   "outputs": [],
   "source": [
    "data['Family_Size'] = data['Parch'] + data['SibSp']"
   ]
  },
  {
   "cell_type": "code",
   "execution_count": 19,
   "metadata": {},
   "outputs": [
    {
     "name": "stderr",
     "output_type": "stream",
     "text": [
      "C:\\Users\\Becky\\anaconda3\\lib\\site-packages\\seaborn\\distributions.py:2551: FutureWarning: `distplot` is a deprecated function and will be removed in a future version. Please adapt your code to use either `displot` (a figure-level function with similar flexibility) or `histplot` (an axes-level function for histograms).\n",
      "  warnings.warn(msg, FutureWarning)\n"
     ]
    },
    {
     "data": {
      "text/plain": [
       "<seaborn.axisgrid.FacetGrid at 0x24977278a00>"
      ]
     },
     "execution_count": 19,
     "metadata": {},
     "output_type": "execute_result"
    },
    {
     "data": {
      "image/png": "[encoded data removed]",
      "text/plain": [
       "<Figure size 432x216 with 2 Axes>"
      ]
     },
     "metadata": {
      "needs_background": "light"
     },
     "output_type": "display_data"
    }
   ],
   "source": [
    "g = sns.FacetGrid(data, col='Survived')\n",
    "g.map(sns.distplot, 'Family_Size', kde=False)"
   ]
  },
  {
   "cell_type": "markdown",
   "metadata": {},
   "source": [
    "# Feature Engineering"
   ]
  },
  {
   "cell_type": "code",
   "execution_count": 20,
   "metadata": {},
   "outputs": [],
   "source": [
    "data['Title1'] = data['Name'].str.split(\", \", expand=True)[1]"
   ]
  },
  {
   "cell_type": "code",
   "execution_count": 21,
   "metadata": {},
   "outputs": [
    {
     "data": {
      "text/html": [
       "<div>\n",
       "<style scoped>\n",
       "    .dataframe tbody tr th:only-of-type {\n",
       "        vertical-align: middle;\n",
       "    }\n",
       "\n",
       "    .dataframe tbody tr th {\n",
       "        vertical-align: top;\n",
       "    }\n",
       "\n",
       "    .dataframe thead th {\n",
       "        text-align: right;\n",
       "    }\n",
       "</style>\n",
       "<table border=\"1\" class=\"dataframe\">\n",
       "  <thead>\n",
       "    <tr style=\"text-align: right;\">\n",
       "      <th></th>\n",
       "      <th>0</th>\n",
       "      <th>1</th>\n",
       "    </tr>\n",
       "  </thead>\n",
       "  <tbody>\n",
       "    <tr>\n",
       "      <th>0</th>\n",
       "      <td>Braund</td>\n",
       "      <td>Mr. Owen Harris</td>\n",
       "    </tr>\n",
       "    <tr>\n",
       "      <th>1</th>\n",
       "      <td>Cumings</td>\n",
       "      <td>Mrs. John Bradley (Florence Briggs Thayer)</td>\n",
       "    </tr>\n",
       "    <tr>\n",
       "      <th>2</th>\n",
       "      <td>Heikkinen</td>\n",
       "      <td>Miss. Laina</td>\n",
       "    </tr>\n",
       "  </tbody>\n",
       "</table>\n",
       "</div>"
      ],
      "text/plain": [
       "           0                                           1\n",
       "0     Braund                             Mr. Owen Harris\n",
       "1    Cumings  Mrs. John Bradley (Florence Briggs Thayer)\n",
       "2  Heikkinen                                 Miss. Laina"
      ]
     },
     "execution_count": 21,
     "metadata": {},
     "output_type": "execute_result"
    }
   ],
   "source": [
    "data['Name'].str.split(\", \", expand=True).head(3)"
   ]
  },
  {
   "cell_type": "code",
   "execution_count": 22,
   "metadata": {},
   "outputs": [
    {
     "data": {
      "text/plain": [
       "0                               Mr. Owen Harris\n",
       "1    Mrs. John Bradley (Florence Briggs Thayer)\n",
       "2                                   Miss. Laina\n",
       "Name: Title1, dtype: object"
      ]
     },
     "execution_count": 22,
     "metadata": {},
     "output_type": "execute_result"
    }
   ],
   "source": [
    "data['Title1'].head(3)"
   ]
  },
  {
   "cell_type": "code",
   "execution_count": 23,
   "metadata": {},
   "outputs": [],
   "source": [
    "data['Title1'] = data['Title1'].str.split(\".\", expand=True)[0]"
   ]
  },
  {
   "cell_type": "code",
   "execution_count": 24,
   "metadata": {},
   "outputs": [
    {
     "data": {
      "text/plain": [
       "0      Mr\n",
       "1     Mrs\n",
       "2    Miss\n",
       "Name: Title1, dtype: object"
      ]
     },
     "execution_count": 24,
     "metadata": {},
     "output_type": "execute_result"
    }
   ],
   "source": [
    "data['Title1'].head(3)"
   ]
  },
  {
   "cell_type": "code",
   "execution_count": 25,
   "metadata": {},
   "outputs": [
    {
     "data": {
      "text/plain": [
       "array(['Mr', 'Mrs', 'Miss', 'Master', 'Don', 'Rev', 'Dr', 'Mme', 'Ms',\n",
       "       'Major', 'Lady', 'Sir', 'Mlle', 'Col', 'Capt', 'the Countess',\n",
       "       'Jonkheer', 'Dona'], dtype=object)"
      ]
     },
     "execution_count": 25,
     "metadata": {},
     "output_type": "execute_result"
    }
   ],
   "source": [
    "data['Title1'].unique()"
   ]
  },
  {
   "cell_type": "code",
   "execution_count": 26,
   "metadata": {},
   "outputs": [
    {
     "data": {
      "text/html": [
       "<style  type=\"text/css\" >\n",
       "#T_7e144508_f362_11eb_86b1_a0c589f63de3row0_col0,#T_7e144508_f362_11eb_86b1_a0c589f63de3row0_col1,#T_7e144508_f362_11eb_86b1_a0c589f63de3row0_col2,#T_7e144508_f362_11eb_86b1_a0c589f63de3row0_col4,#T_7e144508_f362_11eb_86b1_a0c589f63de3row0_col5,#T_7e144508_f362_11eb_86b1_a0c589f63de3row0_col7,#T_7e144508_f362_11eb_86b1_a0c589f63de3row0_col8,#T_7e144508_f362_11eb_86b1_a0c589f63de3row0_col12,#T_7e144508_f362_11eb_86b1_a0c589f63de3row0_col15,#T_7e144508_f362_11eb_86b1_a0c589f63de3row0_col16,#T_7e144508_f362_11eb_86b1_a0c589f63de3row1_col3,#T_7e144508_f362_11eb_86b1_a0c589f63de3row1_col6,#T_7e144508_f362_11eb_86b1_a0c589f63de3row1_col9,#T_7e144508_f362_11eb_86b1_a0c589f63de3row1_col10,#T_7e144508_f362_11eb_86b1_a0c589f63de3row1_col11,#T_7e144508_f362_11eb_86b1_a0c589f63de3row1_col13,#T_7e144508_f362_11eb_86b1_a0c589f63de3row1_col14,#T_7e144508_f362_11eb_86b1_a0c589f63de3row1_col17{\n",
       "            background-color:  #ffff66;\n",
       "            color:  #000000;\n",
       "        }#T_7e144508_f362_11eb_86b1_a0c589f63de3row0_col3,#T_7e144508_f362_11eb_86b1_a0c589f63de3row0_col6,#T_7e144508_f362_11eb_86b1_a0c589f63de3row0_col9,#T_7e144508_f362_11eb_86b1_a0c589f63de3row0_col10,#T_7e144508_f362_11eb_86b1_a0c589f63de3row0_col11,#T_7e144508_f362_11eb_86b1_a0c589f63de3row0_col13,#T_7e144508_f362_11eb_86b1_a0c589f63de3row0_col14,#T_7e144508_f362_11eb_86b1_a0c589f63de3row0_col17,#T_7e144508_f362_11eb_86b1_a0c589f63de3row1_col0,#T_7e144508_f362_11eb_86b1_a0c589f63de3row1_col1,#T_7e144508_f362_11eb_86b1_a0c589f63de3row1_col2,#T_7e144508_f362_11eb_86b1_a0c589f63de3row1_col4,#T_7e144508_f362_11eb_86b1_a0c589f63de3row1_col5,#T_7e144508_f362_11eb_86b1_a0c589f63de3row1_col7,#T_7e144508_f362_11eb_86b1_a0c589f63de3row1_col8,#T_7e144508_f362_11eb_86b1_a0c589f63de3row1_col12,#T_7e144508_f362_11eb_86b1_a0c589f63de3row1_col15,#T_7e144508_f362_11eb_86b1_a0c589f63de3row1_col16{\n",
       "            background-color:  #008066;\n",
       "            color:  #f1f1f1;\n",
       "        }</style><table id=\"T_7e144508_f362_11eb_86b1_a0c589f63de3\" ><thead>    <tr>        <th class=\"index_name level0\" >Title1</th>        <th class=\"col_heading level0 col0\" >Capt</th>        <th class=\"col_heading level0 col1\" >Col</th>        <th class=\"col_heading level0 col2\" >Don</th>        <th class=\"col_heading level0 col3\" >Dona</th>        <th class=\"col_heading level0 col4\" >Dr</th>        <th class=\"col_heading level0 col5\" >Jonkheer</th>        <th class=\"col_heading level0 col6\" >Lady</th>        <th class=\"col_heading level0 col7\" >Major</th>        <th class=\"col_heading level0 col8\" >Master</th>        <th class=\"col_heading level0 col9\" >Miss</th>        <th class=\"col_heading level0 col10\" >Mlle</th>        <th class=\"col_heading level0 col11\" >Mme</th>        <th class=\"col_heading level0 col12\" >Mr</th>        <th class=\"col_heading level0 col13\" >Mrs</th>        <th class=\"col_heading level0 col14\" >Ms</th>        <th class=\"col_heading level0 col15\" >Rev</th>        <th class=\"col_heading level0 col16\" >Sir</th>        <th class=\"col_heading level0 col17\" >the Countess</th>    </tr>    <tr>        <th class=\"index_name level0\" >Sex</th>        <th class=\"blank\" ></th>        <th class=\"blank\" ></th>        <th class=\"blank\" ></th>        <th class=\"blank\" ></th>        <th class=\"blank\" ></th>        <th class=\"blank\" ></th>        <th class=\"blank\" ></th>        <th class=\"blank\" ></th>        <th class=\"blank\" ></th>        <th class=\"blank\" ></th>        <th class=\"blank\" ></th>        <th class=\"blank\" ></th>        <th class=\"blank\" ></th>        <th class=\"blank\" ></th>        <th class=\"blank\" ></th>        <th class=\"blank\" ></th>        <th class=\"blank\" ></th>        <th class=\"blank\" ></th>    </tr></thead><tbody>\n",
       "                <tr>\n",
       "                        <th id=\"T_7e144508_f362_11eb_86b1_a0c589f63de3level0_row0\" class=\"row_heading level0 row0\" >female</th>\n",
       "                        <td id=\"T_7e144508_f362_11eb_86b1_a0c589f63de3row0_col0\" class=\"data row0 col0\" >0</td>\n",
       "                        <td id=\"T_7e144508_f362_11eb_86b1_a0c589f63de3row0_col1\" class=\"data row0 col1\" >0</td>\n",
       "                        <td id=\"T_7e144508_f362_11eb_86b1_a0c589f63de3row0_col2\" class=\"data row0 col2\" >0</td>\n",
       "                        <td id=\"T_7e144508_f362_11eb_86b1_a0c589f63de3row0_col3\" class=\"data row0 col3\" >1</td>\n",
       "                        <td id=\"T_7e144508_f362_11eb_86b1_a0c589f63de3row0_col4\" class=\"data row0 col4\" >1</td>\n",
       "                        <td id=\"T_7e144508_f362_11eb_86b1_a0c589f63de3row0_col5\" class=\"data row0 col5\" >0</td>\n",
       "                        <td id=\"T_7e144508_f362_11eb_86b1_a0c589f63de3row0_col6\" class=\"data row0 col6\" >1</td>\n",
       "                        <td id=\"T_7e144508_f362_11eb_86b1_a0c589f63de3row0_col7\" class=\"data row0 col7\" >0</td>\n",
       "                        <td id=\"T_7e144508_f362_11eb_86b1_a0c589f63de3row0_col8\" class=\"data row0 col8\" >0</td>\n",
       "                        <td id=\"T_7e144508_f362_11eb_86b1_a0c589f63de3row0_col9\" class=\"data row0 col9\" >260</td>\n",
       "                        <td id=\"T_7e144508_f362_11eb_86b1_a0c589f63de3row0_col10\" class=\"data row0 col10\" >2</td>\n",
       "                        <td id=\"T_7e144508_f362_11eb_86b1_a0c589f63de3row0_col11\" class=\"data row0 col11\" >1</td>\n",
       "                        <td id=\"T_7e144508_f362_11eb_86b1_a0c589f63de3row0_col12\" class=\"data row0 col12\" >0</td>\n",
       "                        <td id=\"T_7e144508_f362_11eb_86b1_a0c589f63de3row0_col13\" class=\"data row0 col13\" >197</td>\n",
       "                        <td id=\"T_7e144508_f362_11eb_86b1_a0c589f63de3row0_col14\" class=\"data row0 col14\" >2</td>\n",
       "                        <td id=\"T_7e144508_f362_11eb_86b1_a0c589f63de3row0_col15\" class=\"data row0 col15\" >0</td>\n",
       "                        <td id=\"T_7e144508_f362_11eb_86b1_a0c589f63de3row0_col16\" class=\"data row0 col16\" >0</td>\n",
       "                        <td id=\"T_7e144508_f362_11eb_86b1_a0c589f63de3row0_col17\" class=\"data row0 col17\" >1</td>\n",
       "            </tr>\n",
       "            <tr>\n",
       "                        <th id=\"T_7e144508_f362_11eb_86b1_a0c589f63de3level0_row1\" class=\"row_heading level0 row1\" >male</th>\n",
       "                        <td id=\"T_7e144508_f362_11eb_86b1_a0c589f63de3row1_col0\" class=\"data row1 col0\" >1</td>\n",
       "                        <td id=\"T_7e144508_f362_11eb_86b1_a0c589f63de3row1_col1\" class=\"data row1 col1\" >4</td>\n",
       "                        <td id=\"T_7e144508_f362_11eb_86b1_a0c589f63de3row1_col2\" class=\"data row1 col2\" >1</td>\n",
       "                        <td id=\"T_7e144508_f362_11eb_86b1_a0c589f63de3row1_col3\" class=\"data row1 col3\" >0</td>\n",
       "                        <td id=\"T_7e144508_f362_11eb_86b1_a0c589f63de3row1_col4\" class=\"data row1 col4\" >7</td>\n",
       "                        <td id=\"T_7e144508_f362_11eb_86b1_a0c589f63de3row1_col5\" class=\"data row1 col5\" >1</td>\n",
       "                        <td id=\"T_7e144508_f362_11eb_86b1_a0c589f63de3row1_col6\" class=\"data row1 col6\" >0</td>\n",
       "                        <td id=\"T_7e144508_f362_11eb_86b1_a0c589f63de3row1_col7\" class=\"data row1 col7\" >2</td>\n",
       "                        <td id=\"T_7e144508_f362_11eb_86b1_a0c589f63de3row1_col8\" class=\"data row1 col8\" >61</td>\n",
       "                        <td id=\"T_7e144508_f362_11eb_86b1_a0c589f63de3row1_col9\" class=\"data row1 col9\" >0</td>\n",
       "                        <td id=\"T_7e144508_f362_11eb_86b1_a0c589f63de3row1_col10\" class=\"data row1 col10\" >0</td>\n",
       "                        <td id=\"T_7e144508_f362_11eb_86b1_a0c589f63de3row1_col11\" class=\"data row1 col11\" >0</td>\n",
       "                        <td id=\"T_7e144508_f362_11eb_86b1_a0c589f63de3row1_col12\" class=\"data row1 col12\" >757</td>\n",
       "                        <td id=\"T_7e144508_f362_11eb_86b1_a0c589f63de3row1_col13\" class=\"data row1 col13\" >0</td>\n",
       "                        <td id=\"T_7e144508_f362_11eb_86b1_a0c589f63de3row1_col14\" class=\"data row1 col14\" >0</td>\n",
       "                        <td id=\"T_7e144508_f362_11eb_86b1_a0c589f63de3row1_col15\" class=\"data row1 col15\" >8</td>\n",
       "                        <td id=\"T_7e144508_f362_11eb_86b1_a0c589f63de3row1_col16\" class=\"data row1 col16\" >1</td>\n",
       "                        <td id=\"T_7e144508_f362_11eb_86b1_a0c589f63de3row1_col17\" class=\"data row1 col17\" >0</td>\n",
       "            </tr>\n",
       "    </tbody></table>"
      ],
      "text/plain": [
       "<pandas.io.formats.style.Styler at 0x24976f2c640>"
      ]
     },
     "execution_count": 26,
     "metadata": {},
     "output_type": "execute_result"
    }
   ],
   "source": [
    "pd.crosstab(data['Title1'],data['Sex']).T.style.background_gradient(cmap='summer_r')"
   ]
  },
  {
   "cell_type": "code",
   "execution_count": 27,
   "metadata": {},
   "outputs": [
    {
     "data": {
      "text/html": [
       "<style  type=\"text/css\" >\n",
       "#T_7e2509f2_f362_11eb_b00c_a0c589f63de3row0_col0,#T_7e2509f2_f362_11eb_b00c_a0c589f63de3row0_col2,#T_7e2509f2_f362_11eb_b00c_a0c589f63de3row0_col3,#T_7e2509f2_f362_11eb_b00c_a0c589f63de3row0_col4,#T_7e2509f2_f362_11eb_b00c_a0c589f63de3row0_col11,#T_7e2509f2_f362_11eb_b00c_a0c589f63de3row0_col14,#T_7e2509f2_f362_11eb_b00c_a0c589f63de3row1_col5,#T_7e2509f2_f362_11eb_b00c_a0c589f63de3row1_col7,#T_7e2509f2_f362_11eb_b00c_a0c589f63de3row1_col8,#T_7e2509f2_f362_11eb_b00c_a0c589f63de3row1_col9,#T_7e2509f2_f362_11eb_b00c_a0c589f63de3row1_col10,#T_7e2509f2_f362_11eb_b00c_a0c589f63de3row1_col12,#T_7e2509f2_f362_11eb_b00c_a0c589f63de3row1_col13,#T_7e2509f2_f362_11eb_b00c_a0c589f63de3row1_col15,#T_7e2509f2_f362_11eb_b00c_a0c589f63de3row1_col16{\n",
       "            background-color:  #008066;\n",
       "            color:  #f1f1f1;\n",
       "        }#T_7e2509f2_f362_11eb_b00c_a0c589f63de3row0_col1,#T_7e2509f2_f362_11eb_b00c_a0c589f63de3row0_col5,#T_7e2509f2_f362_11eb_b00c_a0c589f63de3row0_col6,#T_7e2509f2_f362_11eb_b00c_a0c589f63de3row0_col7,#T_7e2509f2_f362_11eb_b00c_a0c589f63de3row0_col8,#T_7e2509f2_f362_11eb_b00c_a0c589f63de3row0_col9,#T_7e2509f2_f362_11eb_b00c_a0c589f63de3row0_col10,#T_7e2509f2_f362_11eb_b00c_a0c589f63de3row0_col12,#T_7e2509f2_f362_11eb_b00c_a0c589f63de3row0_col13,#T_7e2509f2_f362_11eb_b00c_a0c589f63de3row0_col15,#T_7e2509f2_f362_11eb_b00c_a0c589f63de3row0_col16,#T_7e2509f2_f362_11eb_b00c_a0c589f63de3row1_col0,#T_7e2509f2_f362_11eb_b00c_a0c589f63de3row1_col1,#T_7e2509f2_f362_11eb_b00c_a0c589f63de3row1_col2,#T_7e2509f2_f362_11eb_b00c_a0c589f63de3row1_col3,#T_7e2509f2_f362_11eb_b00c_a0c589f63de3row1_col4,#T_7e2509f2_f362_11eb_b00c_a0c589f63de3row1_col6,#T_7e2509f2_f362_11eb_b00c_a0c589f63de3row1_col11,#T_7e2509f2_f362_11eb_b00c_a0c589f63de3row1_col14{\n",
       "            background-color:  #ffff66;\n",
       "            color:  #000000;\n",
       "        }</style><table id=\"T_7e2509f2_f362_11eb_b00c_a0c589f63de3\" ><thead>    <tr>        <th class=\"index_name level0\" >Title1</th>        <th class=\"col_heading level0 col0\" >Capt</th>        <th class=\"col_heading level0 col1\" >Col</th>        <th class=\"col_heading level0 col2\" >Don</th>        <th class=\"col_heading level0 col3\" >Dr</th>        <th class=\"col_heading level0 col4\" >Jonkheer</th>        <th class=\"col_heading level0 col5\" >Lady</th>        <th class=\"col_heading level0 col6\" >Major</th>        <th class=\"col_heading level0 col7\" >Master</th>        <th class=\"col_heading level0 col8\" >Miss</th>        <th class=\"col_heading level0 col9\" >Mlle</th>        <th class=\"col_heading level0 col10\" >Mme</th>        <th class=\"col_heading level0 col11\" >Mr</th>        <th class=\"col_heading level0 col12\" >Mrs</th>        <th class=\"col_heading level0 col13\" >Ms</th>        <th class=\"col_heading level0 col14\" >Rev</th>        <th class=\"col_heading level0 col15\" >Sir</th>        <th class=\"col_heading level0 col16\" >the Countess</th>    </tr>    <tr>        <th class=\"index_name level0\" >Survived</th>        <th class=\"blank\" ></th>        <th class=\"blank\" ></th>        <th class=\"blank\" ></th>        <th class=\"blank\" ></th>        <th class=\"blank\" ></th>        <th class=\"blank\" ></th>        <th class=\"blank\" ></th>        <th class=\"blank\" ></th>        <th class=\"blank\" ></th>        <th class=\"blank\" ></th>        <th class=\"blank\" ></th>        <th class=\"blank\" ></th>        <th class=\"blank\" ></th>        <th class=\"blank\" ></th>        <th class=\"blank\" ></th>        <th class=\"blank\" ></th>        <th class=\"blank\" ></th>    </tr></thead><tbody>\n",
       "                <tr>\n",
       "                        <th id=\"T_7e2509f2_f362_11eb_b00c_a0c589f63de3level0_row0\" class=\"row_heading level0 row0\" >0.0</th>\n",
       "                        <td id=\"T_7e2509f2_f362_11eb_b00c_a0c589f63de3row0_col0\" class=\"data row0 col0\" >1</td>\n",
       "                        <td id=\"T_7e2509f2_f362_11eb_b00c_a0c589f63de3row0_col1\" class=\"data row0 col1\" >1</td>\n",
       "                        <td id=\"T_7e2509f2_f362_11eb_b00c_a0c589f63de3row0_col2\" class=\"data row0 col2\" >1</td>\n",
       "                        <td id=\"T_7e2509f2_f362_11eb_b00c_a0c589f63de3row0_col3\" class=\"data row0 col3\" >4</td>\n",
       "                        <td id=\"T_7e2509f2_f362_11eb_b00c_a0c589f63de3row0_col4\" class=\"data row0 col4\" >1</td>\n",
       "                        <td id=\"T_7e2509f2_f362_11eb_b00c_a0c589f63de3row0_col5\" class=\"data row0 col5\" >0</td>\n",
       "                        <td id=\"T_7e2509f2_f362_11eb_b00c_a0c589f63de3row0_col6\" class=\"data row0 col6\" >1</td>\n",
       "                        <td id=\"T_7e2509f2_f362_11eb_b00c_a0c589f63de3row0_col7\" class=\"data row0 col7\" >17</td>\n",
       "                        <td id=\"T_7e2509f2_f362_11eb_b00c_a0c589f63de3row0_col8\" class=\"data row0 col8\" >55</td>\n",
       "                        <td id=\"T_7e2509f2_f362_11eb_b00c_a0c589f63de3row0_col9\" class=\"data row0 col9\" >0</td>\n",
       "                        <td id=\"T_7e2509f2_f362_11eb_b00c_a0c589f63de3row0_col10\" class=\"data row0 col10\" >0</td>\n",
       "                        <td id=\"T_7e2509f2_f362_11eb_b00c_a0c589f63de3row0_col11\" class=\"data row0 col11\" >436</td>\n",
       "                        <td id=\"T_7e2509f2_f362_11eb_b00c_a0c589f63de3row0_col12\" class=\"data row0 col12\" >26</td>\n",
       "                        <td id=\"T_7e2509f2_f362_11eb_b00c_a0c589f63de3row0_col13\" class=\"data row0 col13\" >0</td>\n",
       "                        <td id=\"T_7e2509f2_f362_11eb_b00c_a0c589f63de3row0_col14\" class=\"data row0 col14\" >6</td>\n",
       "                        <td id=\"T_7e2509f2_f362_11eb_b00c_a0c589f63de3row0_col15\" class=\"data row0 col15\" >0</td>\n",
       "                        <td id=\"T_7e2509f2_f362_11eb_b00c_a0c589f63de3row0_col16\" class=\"data row0 col16\" >0</td>\n",
       "            </tr>\n",
       "            <tr>\n",
       "                        <th id=\"T_7e2509f2_f362_11eb_b00c_a0c589f63de3level0_row1\" class=\"row_heading level0 row1\" >1.0</th>\n",
       "                        <td id=\"T_7e2509f2_f362_11eb_b00c_a0c589f63de3row1_col0\" class=\"data row1 col0\" >0</td>\n",
       "                        <td id=\"T_7e2509f2_f362_11eb_b00c_a0c589f63de3row1_col1\" class=\"data row1 col1\" >1</td>\n",
       "                        <td id=\"T_7e2509f2_f362_11eb_b00c_a0c589f63de3row1_col2\" class=\"data row1 col2\" >0</td>\n",
       "                        <td id=\"T_7e2509f2_f362_11eb_b00c_a0c589f63de3row1_col3\" class=\"data row1 col3\" >3</td>\n",
       "                        <td id=\"T_7e2509f2_f362_11eb_b00c_a0c589f63de3row1_col4\" class=\"data row1 col4\" >0</td>\n",
       "                        <td id=\"T_7e2509f2_f362_11eb_b00c_a0c589f63de3row1_col5\" class=\"data row1 col5\" >1</td>\n",
       "                        <td id=\"T_7e2509f2_f362_11eb_b00c_a0c589f63de3row1_col6\" class=\"data row1 col6\" >1</td>\n",
       "                        <td id=\"T_7e2509f2_f362_11eb_b00c_a0c589f63de3row1_col7\" class=\"data row1 col7\" >23</td>\n",
       "                        <td id=\"T_7e2509f2_f362_11eb_b00c_a0c589f63de3row1_col8\" class=\"data row1 col8\" >127</td>\n",
       "                        <td id=\"T_7e2509f2_f362_11eb_b00c_a0c589f63de3row1_col9\" class=\"data row1 col9\" >2</td>\n",
       "                        <td id=\"T_7e2509f2_f362_11eb_b00c_a0c589f63de3row1_col10\" class=\"data row1 col10\" >1</td>\n",
       "                        <td id=\"T_7e2509f2_f362_11eb_b00c_a0c589f63de3row1_col11\" class=\"data row1 col11\" >81</td>\n",
       "                        <td id=\"T_7e2509f2_f362_11eb_b00c_a0c589f63de3row1_col12\" class=\"data row1 col12\" >99</td>\n",
       "                        <td id=\"T_7e2509f2_f362_11eb_b00c_a0c589f63de3row1_col13\" class=\"data row1 col13\" >1</td>\n",
       "                        <td id=\"T_7e2509f2_f362_11eb_b00c_a0c589f63de3row1_col14\" class=\"data row1 col14\" >0</td>\n",
       "                        <td id=\"T_7e2509f2_f362_11eb_b00c_a0c589f63de3row1_col15\" class=\"data row1 col15\" >1</td>\n",
       "                        <td id=\"T_7e2509f2_f362_11eb_b00c_a0c589f63de3row1_col16\" class=\"data row1 col16\" >1</td>\n",
       "            </tr>\n",
       "    </tbody></table>"
      ],
      "text/plain": [
       "<pandas.io.formats.style.Styler at 0x249771c2970>"
      ]
     },
     "execution_count": 27,
     "metadata": {},
     "output_type": "execute_result"
    }
   ],
   "source": [
    "pd.crosstab(data['Title1'],data['Survived']).T.style.background_gradient(cmap='summer_r')"
   ]
  },
  {
   "cell_type": "code",
   "execution_count": 28,
   "metadata": {},
   "outputs": [
    {
     "data": {
      "text/plain": [
       "Title1\n",
       "Capt            70.000000\n",
       "Col             54.000000\n",
       "Don             40.000000\n",
       "Dona            39.000000\n",
       "Dr              43.571429\n",
       "Jonkheer        38.000000\n",
       "Lady            48.000000\n",
       "Major           48.500000\n",
       "Master           5.482642\n",
       "Miss            21.774238\n",
       "Mlle            24.000000\n",
       "Mme             24.000000\n",
       "Mr              32.252151\n",
       "Mrs             36.994118\n",
       "Ms              28.000000\n",
       "Rev             41.250000\n",
       "Sir             49.000000\n",
       "the Countess    33.000000\n",
       "Name: Age, dtype: float64"
      ]
     },
     "execution_count": 28,
     "metadata": {},
     "output_type": "execute_result"
    }
   ],
   "source": [
    "data.groupby(['Title1'])['Age'].mean()"
   ]
  },
  {
   "cell_type": "code",
   "execution_count": 29,
   "metadata": {},
   "outputs": [
    {
     "data": {
      "text/plain": [
       "Title1        Pclass\n",
       "Capt          1         70.000000\n",
       "Col           1         54.000000\n",
       "Don           1         40.000000\n",
       "Dona          1         39.000000\n",
       "Dr            1         45.600000\n",
       "              2         38.500000\n",
       "Jonkheer      1         38.000000\n",
       "Lady          1         48.000000\n",
       "Major         1         48.500000\n",
       "Master        1          6.984000\n",
       "              2          2.757273\n",
       "              3          6.090000\n",
       "Miss          1         30.338983\n",
       "              2         20.717083\n",
       "              3         17.360874\n",
       "Mlle          1         24.000000\n",
       "Mme           1         24.000000\n",
       "Mr            1         41.450758\n",
       "              2         32.346715\n",
       "              3         28.318910\n",
       "Mrs           1         43.208955\n",
       "              2         33.518519\n",
       "              3         32.326531\n",
       "Ms            2         28.000000\n",
       "              3               NaN\n",
       "Rev           2         41.250000\n",
       "Sir           1         49.000000\n",
       "the Countess  1         33.000000\n",
       "Name: Age, dtype: float64"
      ]
     },
     "execution_count": 29,
     "metadata": {},
     "output_type": "execute_result"
    }
   ],
   "source": [
    "data.groupby(['Title1','Pclass'])['Age'].mean()"
   ]
  },
  {
   "cell_type": "code",
   "execution_count": 30,
   "metadata": {},
   "outputs": [],
   "source": [
    "data['Title2'] = data['Title1'].replace(['Mlle','Mme','Ms','Dr','Major','Lady','the Countess','Jonkheer','Col','Rev','Capt','Sir','Don','Dona'],\n",
    "         ['Miss','Mrs','Miss','Mr','Mr','Mrs','Mrs','Mr','Mr','Mr','Mr','Mr','Mr','Mrs'])"
   ]
  },
  {
   "cell_type": "markdown",
   "metadata": {},
   "source": [
    "## Extract name title"
   ]
  },
  {
   "cell_type": "code",
   "execution_count": 31,
   "metadata": {},
   "outputs": [
    {
     "data": {
      "text/plain": [
       "array(['Mr', 'Mrs', 'Miss', 'Master'], dtype=object)"
      ]
     },
     "execution_count": 31,
     "metadata": {},
     "output_type": "execute_result"
    }
   ],
   "source": [
    "data['Title2'].unique()"
   ]
  },
  {
   "cell_type": "code",
   "execution_count": 32,
   "metadata": {},
   "outputs": [
    {
     "data": {
      "text/plain": [
       "Title2\n",
       "Master     5.482642\n",
       "Miss      21.824366\n",
       "Mr        32.811056\n",
       "Mrs       36.971264\n",
       "Name: Age, dtype: float64"
      ]
     },
     "execution_count": 32,
     "metadata": {},
     "output_type": "execute_result"
    }
   ],
   "source": [
    "data.groupby('Title2')['Age'].mean()"
   ]
  },
  {
   "cell_type": "code",
   "execution_count": 33,
   "metadata": {},
   "outputs": [
    {
     "data": {
      "text/plain": [
       "Title2\n",
       "Master     5.482642\n",
       "Miss      21.824366\n",
       "Mr        32.811056\n",
       "Mrs       36.971264\n",
       "Name: Age, dtype: float64"
      ]
     },
     "execution_count": 33,
     "metadata": {},
     "output_type": "execute_result"
    }
   ],
   "source": [
    "data.groupby(['Title2'])['Age'].mean()"
   ]
  },
  {
   "cell_type": "code",
   "execution_count": 34,
   "metadata": {},
   "outputs": [
    {
     "data": {
      "text/plain": [
       "Title2  Pclass\n",
       "Master  1          6.984000\n",
       "        2          2.757273\n",
       "        3          6.090000\n",
       "Miss    1         30.131148\n",
       "        2         20.865714\n",
       "        3         17.360874\n",
       "Mr      1         42.241497\n",
       "        2         32.914966\n",
       "        3         28.318910\n",
       "Mrs     1         42.802817\n",
       "        2         33.518519\n",
       "        3         32.326531\n",
       "Name: Age, dtype: float64"
      ]
     },
     "execution_count": 34,
     "metadata": {},
     "output_type": "execute_result"
    }
   ],
   "source": [
    "data.groupby(['Title2','Pclass'])['Age'].mean()"
   ]
  },
  {
   "cell_type": "code",
   "execution_count": 35,
   "metadata": {},
   "outputs": [
    {
     "data": {
      "text/html": [
       "<style  type=\"text/css\" >\n",
       "#T_7e44b14c_f362_11eb_9b10_a0c589f63de3row0_col0,#T_7e44b14c_f362_11eb_9b10_a0c589f63de3row0_col2,#T_7e44b14c_f362_11eb_9b10_a0c589f63de3row1_col1,#T_7e44b14c_f362_11eb_9b10_a0c589f63de3row1_col3{\n",
       "            background-color:  #ffff66;\n",
       "            color:  #000000;\n",
       "        }#T_7e44b14c_f362_11eb_9b10_a0c589f63de3row0_col1,#T_7e44b14c_f362_11eb_9b10_a0c589f63de3row0_col3,#T_7e44b14c_f362_11eb_9b10_a0c589f63de3row1_col0,#T_7e44b14c_f362_11eb_9b10_a0c589f63de3row1_col2{\n",
       "            background-color:  #008066;\n",
       "            color:  #f1f1f1;\n",
       "        }</style><table id=\"T_7e44b14c_f362_11eb_9b10_a0c589f63de3\" ><thead>    <tr>        <th class=\"index_name level0\" >Title2</th>        <th class=\"col_heading level0 col0\" >Master</th>        <th class=\"col_heading level0 col1\" >Miss</th>        <th class=\"col_heading level0 col2\" >Mr</th>        <th class=\"col_heading level0 col3\" >Mrs</th>    </tr>    <tr>        <th class=\"index_name level0\" >Sex</th>        <th class=\"blank\" ></th>        <th class=\"blank\" ></th>        <th class=\"blank\" ></th>        <th class=\"blank\" ></th>    </tr></thead><tbody>\n",
       "                <tr>\n",
       "                        <th id=\"T_7e44b14c_f362_11eb_9b10_a0c589f63de3level0_row0\" class=\"row_heading level0 row0\" >female</th>\n",
       "                        <td id=\"T_7e44b14c_f362_11eb_9b10_a0c589f63de3row0_col0\" class=\"data row0 col0\" >0</td>\n",
       "                        <td id=\"T_7e44b14c_f362_11eb_9b10_a0c589f63de3row0_col1\" class=\"data row0 col1\" >264</td>\n",
       "                        <td id=\"T_7e44b14c_f362_11eb_9b10_a0c589f63de3row0_col2\" class=\"data row0 col2\" >1</td>\n",
       "                        <td id=\"T_7e44b14c_f362_11eb_9b10_a0c589f63de3row0_col3\" class=\"data row0 col3\" >201</td>\n",
       "            </tr>\n",
       "            <tr>\n",
       "                        <th id=\"T_7e44b14c_f362_11eb_9b10_a0c589f63de3level0_row1\" class=\"row_heading level0 row1\" >male</th>\n",
       "                        <td id=\"T_7e44b14c_f362_11eb_9b10_a0c589f63de3row1_col0\" class=\"data row1 col0\" >61</td>\n",
       "                        <td id=\"T_7e44b14c_f362_11eb_9b10_a0c589f63de3row1_col1\" class=\"data row1 col1\" >0</td>\n",
       "                        <td id=\"T_7e44b14c_f362_11eb_9b10_a0c589f63de3row1_col2\" class=\"data row1 col2\" >782</td>\n",
       "                        <td id=\"T_7e44b14c_f362_11eb_9b10_a0c589f63de3row1_col3\" class=\"data row1 col3\" >0</td>\n",
       "            </tr>\n",
       "    </tbody></table>"
      ],
      "text/plain": [
       "<pandas.io.formats.style.Styler at 0x2497701eaf0>"
      ]
     },
     "execution_count": 35,
     "metadata": {},
     "output_type": "execute_result"
    }
   ],
   "source": [
    "pd.crosstab(data['Title2'],data['Sex']).T.style.background_gradient(cmap='summer_r') #Checking the Initials with the Sex"
   ]
  },
  {
   "cell_type": "code",
   "execution_count": 36,
   "metadata": {},
   "outputs": [
    {
     "data": {
      "text/html": [
       "<style  type=\"text/css\" >\n",
       "#T_7e4dd2c3_f362_11eb_8b7e_a0c589f63de3row0_col0,#T_7e4dd2c3_f362_11eb_8b7e_a0c589f63de3row0_col1,#T_7e4dd2c3_f362_11eb_8b7e_a0c589f63de3row0_col3,#T_7e4dd2c3_f362_11eb_8b7e_a0c589f63de3row1_col2{\n",
       "            background-color:  #ffff66;\n",
       "            color:  #000000;\n",
       "        }#T_7e4dd2c3_f362_11eb_8b7e_a0c589f63de3row0_col2,#T_7e4dd2c3_f362_11eb_8b7e_a0c589f63de3row1_col0,#T_7e4dd2c3_f362_11eb_8b7e_a0c589f63de3row1_col1,#T_7e4dd2c3_f362_11eb_8b7e_a0c589f63de3row1_col3{\n",
       "            background-color:  #008066;\n",
       "            color:  #f1f1f1;\n",
       "        }</style><table id=\"T_7e4dd2c3_f362_11eb_8b7e_a0c589f63de3\" ><thead>    <tr>        <th class=\"index_name level0\" >Title2</th>        <th class=\"col_heading level0 col0\" >Master</th>        <th class=\"col_heading level0 col1\" >Miss</th>        <th class=\"col_heading level0 col2\" >Mr</th>        <th class=\"col_heading level0 col3\" >Mrs</th>    </tr>    <tr>        <th class=\"index_name level0\" >Survived</th>        <th class=\"blank\" ></th>        <th class=\"blank\" ></th>        <th class=\"blank\" ></th>        <th class=\"blank\" ></th>    </tr></thead><tbody>\n",
       "                <tr>\n",
       "                        <th id=\"T_7e4dd2c3_f362_11eb_8b7e_a0c589f63de3level0_row0\" class=\"row_heading level0 row0\" >0.0</th>\n",
       "                        <td id=\"T_7e4dd2c3_f362_11eb_8b7e_a0c589f63de3row0_col0\" class=\"data row0 col0\" >17</td>\n",
       "                        <td id=\"T_7e4dd2c3_f362_11eb_8b7e_a0c589f63de3row0_col1\" class=\"data row0 col1\" >55</td>\n",
       "                        <td id=\"T_7e4dd2c3_f362_11eb_8b7e_a0c589f63de3row0_col2\" class=\"data row0 col2\" >451</td>\n",
       "                        <td id=\"T_7e4dd2c3_f362_11eb_8b7e_a0c589f63de3row0_col3\" class=\"data row0 col3\" >26</td>\n",
       "            </tr>\n",
       "            <tr>\n",
       "                        <th id=\"T_7e4dd2c3_f362_11eb_8b7e_a0c589f63de3level0_row1\" class=\"row_heading level0 row1\" >1.0</th>\n",
       "                        <td id=\"T_7e4dd2c3_f362_11eb_8b7e_a0c589f63de3row1_col0\" class=\"data row1 col0\" >23</td>\n",
       "                        <td id=\"T_7e4dd2c3_f362_11eb_8b7e_a0c589f63de3row1_col1\" class=\"data row1 col1\" >130</td>\n",
       "                        <td id=\"T_7e4dd2c3_f362_11eb_8b7e_a0c589f63de3row1_col2\" class=\"data row1 col2\" >87</td>\n",
       "                        <td id=\"T_7e4dd2c3_f362_11eb_8b7e_a0c589f63de3row1_col3\" class=\"data row1 col3\" >102</td>\n",
       "            </tr>\n",
       "    </tbody></table>"
      ],
      "text/plain": [
       "<pandas.io.formats.style.Styler at 0x249784f96a0>"
      ]
     },
     "execution_count": 36,
     "metadata": {},
     "output_type": "execute_result"
    }
   ],
   "source": [
    "pd.crosstab(data['Title2'],data['Survived']).T.style.background_gradient(cmap='summer_r') #Checking the Initials with the Sex"
   ]
  },
  {
   "cell_type": "code",
   "execution_count": 37,
   "metadata": {},
   "outputs": [
    {
     "data": {
      "text/plain": [
       "[(('Master', 1), 6.984),\n",
       " (('Master', 2), 2.7572727272727273),\n",
       " (('Master', 3), 6.090000000000001)]"
      ]
     },
     "execution_count": 37,
     "metadata": {},
     "output_type": "execute_result"
    }
   ],
   "source": [
    "list(data.groupby(['Title2','Pclass'])['Age'].mean().iteritems())[:3]"
   ]
  },
  {
   "cell_type": "code",
   "execution_count": 38,
   "metadata": {},
   "outputs": [
    {
     "name": "stdout",
     "output_type": "stream",
     "text": [
      "<class 'pandas.core.frame.DataFrame'>\n",
      "RangeIndex: 1309 entries, 0 to 1308\n",
      "Data columns (total 15 columns):\n",
      " #   Column       Non-Null Count  Dtype  \n",
      "---  ------       --------------  -----  \n",
      " 0   PassengerId  1309 non-null   int64  \n",
      " 1   Survived     891 non-null    float64\n",
      " 2   Pclass       1309 non-null   int64  \n",
      " 3   Name         1309 non-null   object \n",
      " 4   Sex          1309 non-null   object \n",
      " 5   Age          1046 non-null   float64\n",
      " 6   SibSp        1309 non-null   int64  \n",
      " 7   Parch        1309 non-null   int64  \n",
      " 8   Ticket       1309 non-null   object \n",
      " 9   Fare         1308 non-null   float64\n",
      " 10  Cabin        295 non-null    object \n",
      " 11  Embarked     1307 non-null   object \n",
      " 12  Family_Size  1309 non-null   int64  \n",
      " 13  Title1       1309 non-null   object \n",
      " 14  Title2       1309 non-null   object \n",
      "dtypes: float64(3), int64(5), object(7)\n",
      "memory usage: 153.5+ KB\n"
     ]
    }
   ],
   "source": [
    "data.info()"
   ]
  },
  {
   "cell_type": "code",
   "execution_count": 39,
   "metadata": {},
   "outputs": [],
   "source": [
    "data['Ticket_info'] = data['Ticket'].apply(lambda x : x.replace(\".\",\"\").replace(\"/\",\"\").strip().split(' ')[0] if not x.isdigit() else 'X')"
   ]
  },
  {
   "cell_type": "code",
   "execution_count": 40,
   "metadata": {},
   "outputs": [
    {
     "data": {
      "text/plain": [
       "array(['A5', 'PC', 'STONO2', 'X', 'PP', 'CA', 'SCParis', 'SCA4', 'A4',\n",
       "       'SP', 'SOC', 'WC', 'SOTONOQ', 'WEP', 'STONO', 'C', 'SCPARIS',\n",
       "       'SOP', 'Fa', 'LINE', 'FCC', 'SWPP', 'SCOW', 'PPP', 'SC', 'SCAH',\n",
       "       'AS', 'SOPP', 'FC', 'SOTONO2', 'CASOTON', 'SCA3', 'STONOQ', 'AQ4',\n",
       "       'A', 'LP', 'AQ3'], dtype=object)"
      ]
     },
     "execution_count": 40,
     "metadata": {},
     "output_type": "execute_result"
    }
   ],
   "source": [
    "data['Ticket_info'].unique()"
   ]
  },
  {
   "cell_type": "code",
   "execution_count": 41,
   "metadata": {},
   "outputs": [
    {
     "name": "stderr",
     "output_type": "stream",
     "text": [
      "C:\\Users\\Becky\\anaconda3\\lib\\site-packages\\seaborn\\_decorators.py:36: FutureWarning: Pass the following variable as a keyword arg: x. From version 0.12, the only valid positional argument will be `data`, and passing other arguments without an explicit keyword will result in an error or misinterpretation.\n",
      "  warnings.warn(\n"
     ]
    },
    {
     "data": {
      "text/plain": [
       "<AxesSubplot:xlabel='Ticket_info', ylabel='count'>"
      ]
     },
     "execution_count": 41,
     "metadata": {},
     "output_type": "execute_result"
    },
    {
     "data": {
      "image/png": "[encoded data removed]",
      "text/plain": [
       "<Figure size 432x288 with 1 Axes>"
      ]
     },
     "metadata": {
      "needs_background": "light"
     },
     "output_type": "display_data"
    }
   ],
   "source": [
    "sns.countplot(data['Ticket_info'], hue=data['Survived'])"
   ]
  },
  {
   "cell_type": "markdown",
   "metadata": {},
   "source": [
    "### Missing Value-embarked、Fare、Age"
   ]
  },
  {
   "cell_type": "code",
   "execution_count": 42,
   "metadata": {},
   "outputs": [],
   "source": [
    "data['Embarked'] = data['Embarked'].fillna('S')"
   ]
  },
  {
   "cell_type": "code",
   "execution_count": 43,
   "metadata": {},
   "outputs": [
    {
     "name": "stdout",
     "output_type": "stream",
     "text": [
      "<class 'pandas.core.frame.DataFrame'>\n",
      "RangeIndex: 1309 entries, 0 to 1308\n",
      "Data columns (total 16 columns):\n",
      " #   Column       Non-Null Count  Dtype  \n",
      "---  ------       --------------  -----  \n",
      " 0   PassengerId  1309 non-null   int64  \n",
      " 1   Survived     891 non-null    float64\n",
      " 2   Pclass       1309 non-null   int64  \n",
      " 3   Name         1309 non-null   object \n",
      " 4   Sex          1309 non-null   object \n",
      " 5   Age          1046 non-null   float64\n",
      " 6   SibSp        1309 non-null   int64  \n",
      " 7   Parch        1309 non-null   int64  \n",
      " 8   Ticket       1309 non-null   object \n",
      " 9   Fare         1308 non-null   float64\n",
      " 10  Cabin        295 non-null    object \n",
      " 11  Embarked     1309 non-null   object \n",
      " 12  Family_Size  1309 non-null   int64  \n",
      " 13  Title1       1309 non-null   object \n",
      " 14  Title2       1309 non-null   object \n",
      " 15  Ticket_info  1309 non-null   object \n",
      "dtypes: float64(3), int64(5), object(8)\n",
      "memory usage: 163.8+ KB\n"
     ]
    }
   ],
   "source": [
    "data.info()"
   ]
  },
  {
   "cell_type": "code",
   "execution_count": 44,
   "metadata": {},
   "outputs": [],
   "source": [
    "data['Fare'] = data['Fare'].fillna(data['Fare'].mean())"
   ]
  },
  {
   "cell_type": "code",
   "execution_count": 45,
   "metadata": {},
   "outputs": [
    {
     "name": "stdout",
     "output_type": "stream",
     "text": [
      "<class 'pandas.core.frame.DataFrame'>\n",
      "RangeIndex: 1309 entries, 0 to 1308\n",
      "Data columns (total 16 columns):\n",
      " #   Column       Non-Null Count  Dtype  \n",
      "---  ------       --------------  -----  \n",
      " 0   PassengerId  1309 non-null   int64  \n",
      " 1   Survived     891 non-null    float64\n",
      " 2   Pclass       1309 non-null   int64  \n",
      " 3   Name         1309 non-null   object \n",
      " 4   Sex          1309 non-null   object \n",
      " 5   Age          1046 non-null   float64\n",
      " 6   SibSp        1309 non-null   int64  \n",
      " 7   Parch        1309 non-null   int64  \n",
      " 8   Ticket       1309 non-null   object \n",
      " 9   Fare         1309 non-null   float64\n",
      " 10  Cabin        295 non-null    object \n",
      " 11  Embarked     1309 non-null   object \n",
      " 12  Family_Size  1309 non-null   int64  \n",
      " 13  Title1       1309 non-null   object \n",
      " 14  Title2       1309 non-null   object \n",
      " 15  Ticket_info  1309 non-null   object \n",
      "dtypes: float64(3), int64(5), object(8)\n",
      "memory usage: 163.8+ KB\n"
     ]
    }
   ],
   "source": [
    "data.info()"
   ]
  },
  {
   "cell_type": "code",
   "execution_count": 46,
   "metadata": {},
   "outputs": [
    {
     "data": {
      "text/plain": [
       "0     NaN\n",
       "1     C85\n",
       "2     NaN\n",
       "3    C123\n",
       "4     NaN\n",
       "5     NaN\n",
       "6     E46\n",
       "7     NaN\n",
       "8     NaN\n",
       "9     NaN\n",
       "Name: Cabin, dtype: object"
      ]
     },
     "execution_count": 46,
     "metadata": {},
     "output_type": "execute_result"
    }
   ],
   "source": [
    "data['Cabin'].head(10)"
   ]
  },
  {
   "cell_type": "code",
   "execution_count": 47,
   "metadata": {},
   "outputs": [],
   "source": [
    "data[\"Cabin\"] = data['Cabin'].apply(lambda x : str(x)[0] if not pd.isnull(x) else 'NoCabin')"
   ]
  },
  {
   "cell_type": "code",
   "execution_count": 48,
   "metadata": {},
   "outputs": [
    {
     "data": {
      "text/plain": [
       "array(['NoCabin', 'C', 'E', 'G', 'D', 'A', 'B', 'F', 'T'], dtype=object)"
      ]
     },
     "execution_count": 48,
     "metadata": {},
     "output_type": "execute_result"
    }
   ],
   "source": [
    "data[\"Cabin\"].unique()"
   ]
  },
  {
   "cell_type": "code",
   "execution_count": 49,
   "metadata": {},
   "outputs": [
    {
     "name": "stderr",
     "output_type": "stream",
     "text": [
      "C:\\Users\\Becky\\anaconda3\\lib\\site-packages\\seaborn\\_decorators.py:36: FutureWarning: Pass the following variable as a keyword arg: x. From version 0.12, the only valid positional argument will be `data`, and passing other arguments without an explicit keyword will result in an error or misinterpretation.\n",
      "  warnings.warn(\n"
     ]
    },
    {
     "data": {
      "text/plain": [
       "<AxesSubplot:xlabel='Cabin', ylabel='count'>"
      ]
     },
     "execution_count": 49,
     "metadata": {},
     "output_type": "execute_result"
    },
    {
     "data": {
      "image/png": "[encoded data removed]",
      "text/plain": [
       "<Figure size 432x288 with 1 Axes>"
      ]
     },
     "metadata": {
      "needs_background": "light"
     },
     "output_type": "display_data"
    }
   ],
   "source": [
    "sns.countplot(data['Cabin'], hue=data['Survived'])"
   ]
  },
  {
   "cell_type": "markdown",
   "metadata": {},
   "source": [
    "## <class 'str'> to <class 'int'>"
   ]
  },
  {
   "cell_type": "code",
   "execution_count": 50,
   "metadata": {},
   "outputs": [],
   "source": [
    "data['Sex'] = data['Sex'].astype('category').cat.codes\n",
    "data['Embarked'] = data['Embarked'].astype('category').cat.codes\n",
    "data['Pclass'] = data['Pclass'].astype('category').cat.codes\n",
    "data['Title1'] = data['Title1'].astype('category').cat.codes\n",
    "data['Title2'] = data['Title2'].astype('category').cat.codes\n",
    "data['Cabin'] = data['Cabin'].astype('category').cat.codes\n",
    "data['Ticket_info'] = data['Ticket_info'].astype('category').cat.codes"
   ]
  },
  {
   "cell_type": "markdown",
   "metadata": {},
   "source": [
    "## Use Random Forest to Predict Age"
   ]
  },
  {
   "cell_type": "code",
   "execution_count": 51,
   "metadata": {},
   "outputs": [],
   "source": [
    "dataAgeNull = data[data[\"Age\"].isnull()]\n",
    "dataAgeNotNull = data[data[\"Age\"].notnull()]\n",
    "remove_outlier = dataAgeNotNull[(np.abs(dataAgeNotNull[\"Fare\"]-dataAgeNotNull[\"Fare\"].mean())>(4*dataAgeNotNull[\"Fare\"].std()))|\n",
    "                      (np.abs(dataAgeNotNull[\"Family_Size\"]-dataAgeNotNull[\"Family_Size\"].mean())>(4*dataAgeNotNull[\"Family_Size\"].std()))                     \n",
    "                     ]\n",
    "rfModel_age = RandomForestRegressor(n_estimators=2000,random_state=42)\n",
    "ageColumns = ['Embarked', 'Fare', 'Pclass', 'Sex', 'Family_Size', 'Title1', 'Title2','Cabin','Ticket_info']\n",
    "rfModel_age.fit(remove_outlier[ageColumns], remove_outlier[\"Age\"])\n",
    "\n",
    "ageNullValues = rfModel_age.predict(X= dataAgeNull[ageColumns])\n",
    "dataAgeNull.loc[:,\"Age\"] = ageNullValues\n",
    "data = dataAgeNull.append(dataAgeNotNull)\n",
    "data.reset_index(inplace=True, drop=True)"
   ]
  },
  {
   "cell_type": "code",
   "execution_count": 52,
   "metadata": {},
   "outputs": [],
   "source": [
    "dataTrain = data[pd.notnull(data['Survived'])].sort_values(by=[\"PassengerId\"])\n",
    "dataTest = data[~pd.notnull(data['Survived'])].sort_values(by=[\"PassengerId\"])"
   ]
  },
  {
   "cell_type": "code",
   "execution_count": 53,
   "metadata": {},
   "outputs": [
    {
     "data": {
      "text/plain": [
       "Index(['PassengerId', 'Survived', 'Pclass', 'Name', 'Sex', 'Age', 'SibSp',\n",
       "       'Parch', 'Ticket', 'Fare', 'Cabin', 'Embarked', 'Family_Size', 'Title1',\n",
       "       'Title2', 'Ticket_info'],\n",
       "      dtype='object')"
      ]
     },
     "execution_count": 53,
     "metadata": {},
     "output_type": "execute_result"
    }
   ],
   "source": [
    "dataTrain.columns"
   ]
  },
  {
   "cell_type": "code",
   "execution_count": 54,
   "metadata": {},
   "outputs": [],
   "source": [
    "dataTrain = dataTrain[['Survived', 'Age', 'Embarked', 'Fare',  'Pclass', 'Sex', 'Family_Size', 'Title2','Ticket_info','Cabin']]\n",
    "dataTest = dataTest[['Age', 'Embarked', 'Fare', 'Pclass', 'Sex', 'Family_Size', 'Title2','Ticket_info','Cabin']]"
   ]
  },
  {
   "cell_type": "code",
   "execution_count": 55,
   "metadata": {},
   "outputs": [
    {
     "data": {
      "text/html": [
       "<div>\n",
       "<style scoped>\n",
       "    .dataframe tbody tr th:only-of-type {\n",
       "        vertical-align: middle;\n",
       "    }\n",
       "\n",
       "    .dataframe tbody tr th {\n",
       "        vertical-align: top;\n",
       "    }\n",
       "\n",
       "    .dataframe thead th {\n",
       "        text-align: right;\n",
       "    }\n",
       "</style>\n",
       "<table border=\"1\" class=\"dataframe\">\n",
       "  <thead>\n",
       "    <tr style=\"text-align: right;\">\n",
       "      <th></th>\n",
       "      <th>Survived</th>\n",
       "      <th>Age</th>\n",
       "      <th>Embarked</th>\n",
       "      <th>Fare</th>\n",
       "      <th>Pclass</th>\n",
       "      <th>Sex</th>\n",
       "      <th>Family_Size</th>\n",
       "      <th>Title2</th>\n",
       "      <th>Ticket_info</th>\n",
       "      <th>Cabin</th>\n",
       "    </tr>\n",
       "  </thead>\n",
       "  <tbody>\n",
       "    <tr>\n",
       "      <th>263</th>\n",
       "      <td>0.0</td>\n",
       "      <td>22.000000</td>\n",
       "      <td>2</td>\n",
       "      <td>7.2500</td>\n",
       "      <td>2</td>\n",
       "      <td>1</td>\n",
       "      <td>1</td>\n",
       "      <td>2</td>\n",
       "      <td>2</td>\n",
       "      <td>7</td>\n",
       "    </tr>\n",
       "    <tr>\n",
       "      <th>264</th>\n",
       "      <td>1.0</td>\n",
       "      <td>38.000000</td>\n",
       "      <td>0</td>\n",
       "      <td>71.2833</td>\n",
       "      <td>0</td>\n",
       "      <td>0</td>\n",
       "      <td>1</td>\n",
       "      <td>3</td>\n",
       "      <td>14</td>\n",
       "      <td>2</td>\n",
       "    </tr>\n",
       "    <tr>\n",
       "      <th>265</th>\n",
       "      <td>1.0</td>\n",
       "      <td>26.000000</td>\n",
       "      <td>2</td>\n",
       "      <td>7.9250</td>\n",
       "      <td>2</td>\n",
       "      <td>0</td>\n",
       "      <td>0</td>\n",
       "      <td>1</td>\n",
       "      <td>31</td>\n",
       "      <td>7</td>\n",
       "    </tr>\n",
       "    <tr>\n",
       "      <th>266</th>\n",
       "      <td>1.0</td>\n",
       "      <td>35.000000</td>\n",
       "      <td>2</td>\n",
       "      <td>53.1000</td>\n",
       "      <td>0</td>\n",
       "      <td>0</td>\n",
       "      <td>1</td>\n",
       "      <td>3</td>\n",
       "      <td>36</td>\n",
       "      <td>2</td>\n",
       "    </tr>\n",
       "    <tr>\n",
       "      <th>267</th>\n",
       "      <td>0.0</td>\n",
       "      <td>35.000000</td>\n",
       "      <td>2</td>\n",
       "      <td>8.0500</td>\n",
       "      <td>2</td>\n",
       "      <td>1</td>\n",
       "      <td>0</td>\n",
       "      <td>2</td>\n",
       "      <td>36</td>\n",
       "      <td>7</td>\n",
       "    </tr>\n",
       "    <tr>\n",
       "      <th>...</th>\n",
       "      <td>...</td>\n",
       "      <td>...</td>\n",
       "      <td>...</td>\n",
       "      <td>...</td>\n",
       "      <td>...</td>\n",
       "      <td>...</td>\n",
       "      <td>...</td>\n",
       "      <td>...</td>\n",
       "      <td>...</td>\n",
       "      <td>...</td>\n",
       "    </tr>\n",
       "    <tr>\n",
       "      <th>973</th>\n",
       "      <td>0.0</td>\n",
       "      <td>27.000000</td>\n",
       "      <td>2</td>\n",
       "      <td>13.0000</td>\n",
       "      <td>1</td>\n",
       "      <td>1</td>\n",
       "      <td>0</td>\n",
       "      <td>2</td>\n",
       "      <td>36</td>\n",
       "      <td>7</td>\n",
       "    </tr>\n",
       "    <tr>\n",
       "      <th>974</th>\n",
       "      <td>1.0</td>\n",
       "      <td>19.000000</td>\n",
       "      <td>2</td>\n",
       "      <td>30.0000</td>\n",
       "      <td>0</td>\n",
       "      <td>0</td>\n",
       "      <td>0</td>\n",
       "      <td>1</td>\n",
       "      <td>36</td>\n",
       "      <td>1</td>\n",
       "    </tr>\n",
       "    <tr>\n",
       "      <th>176</th>\n",
       "      <td>0.0</td>\n",
       "      <td>19.099409</td>\n",
       "      <td>2</td>\n",
       "      <td>23.4500</td>\n",
       "      <td>2</td>\n",
       "      <td>0</td>\n",
       "      <td>3</td>\n",
       "      <td>1</td>\n",
       "      <td>34</td>\n",
       "      <td>7</td>\n",
       "    </tr>\n",
       "    <tr>\n",
       "      <th>975</th>\n",
       "      <td>1.0</td>\n",
       "      <td>26.000000</td>\n",
       "      <td>0</td>\n",
       "      <td>30.0000</td>\n",
       "      <td>0</td>\n",
       "      <td>1</td>\n",
       "      <td>0</td>\n",
       "      <td>2</td>\n",
       "      <td>36</td>\n",
       "      <td>2</td>\n",
       "    </tr>\n",
       "    <tr>\n",
       "      <th>976</th>\n",
       "      <td>0.0</td>\n",
       "      <td>32.000000</td>\n",
       "      <td>1</td>\n",
       "      <td>7.7500</td>\n",
       "      <td>2</td>\n",
       "      <td>1</td>\n",
       "      <td>0</td>\n",
       "      <td>2</td>\n",
       "      <td>36</td>\n",
       "      <td>7</td>\n",
       "    </tr>\n",
       "  </tbody>\n",
       "</table>\n",
       "<p>891 rows × 10 columns</p>\n",
       "</div>"
      ],
      "text/plain": [
       "     Survived        Age  Embarked     Fare  Pclass  Sex  Family_Size  Title2  \\\n",
       "263       0.0  22.000000         2   7.2500       2    1            1       2   \n",
       "264       1.0  38.000000         0  71.2833       0    0            1       3   \n",
       "265       1.0  26.000000         2   7.9250       2    0            0       1   \n",
       "266       1.0  35.000000         2  53.1000       0    0            1       3   \n",
       "267       0.0  35.000000         2   8.0500       2    1            0       2   \n",
       "..        ...        ...       ...      ...     ...  ...          ...     ...   \n",
       "973       0.0  27.000000         2  13.0000       1    1            0       2   \n",
       "974       1.0  19.000000         2  30.0000       0    0            0       1   \n",
       "176       0.0  19.099409         2  23.4500       2    0            3       1   \n",
       "975       1.0  26.000000         0  30.0000       0    1            0       2   \n",
       "976       0.0  32.000000         1   7.7500       2    1            0       2   \n",
       "\n",
       "     Ticket_info  Cabin  \n",
       "263            2      7  \n",
       "264           14      2  \n",
       "265           31      7  \n",
       "266           36      2  \n",
       "267           36      7  \n",
       "..           ...    ...  \n",
       "973           36      7  \n",
       "974           36      1  \n",
       "176           34      7  \n",
       "975           36      2  \n",
       "976           36      7  \n",
       "\n",
       "[891 rows x 10 columns]"
      ]
     },
     "execution_count": 55,
     "metadata": {},
     "output_type": "execute_result"
    }
   ],
   "source": [
    "dataTrain"
   ]
  },
  {
   "cell_type": "code",
   "execution_count": 56,
   "metadata": {},
   "outputs": [
    {
     "name": "stdout",
     "output_type": "stream",
     "text": [
      "0.8294051627384961\n",
      "{'criterion': 'gini', 'min_samples_leaf': 1, 'min_samples_split': 16, 'n_estimators': 50}\n"
     ]
    }
   ],
   "source": [
    "##以下程式可以計算在訓練時要帶入什麼參數做運算比較好\n",
    "rf = RandomForestClassifier(oob_score=True, random_state=1, n_jobs=-1)\n",
    "param_grid = { \"criterion\" : [\"gini\", \"entropy\"], \"min_samples_leaf\" : [1, 5, 10], \"min_samples_split\" : [2, 4, 10, 12, 16, 20], \"n_estimators\": [50, 100, 400, 700, 1000]}\n",
    "gs = GridSearchCV(estimator=rf, param_grid=param_grid, scoring='accuracy', cv=3, n_jobs=-1)\n",
    "\n",
    "gs = gs.fit(dataTrain.iloc[:, 1:], dataTrain.iloc[:, 0])\n",
    "\n",
    "print(gs.best_score_)\n",
    "print(gs.best_params_)"
   ]
  },
  {
   "cell_type": "code",
   "execution_count": 57,
   "metadata": {},
   "outputs": [
    {
     "name": "stdout",
     "output_type": "stream",
     "text": [
      "0.8316\n"
     ]
    }
   ],
   "source": [
    "from sklearn.ensemble import RandomForestClassifier\n",
    " \n",
    "rf = RandomForestClassifier(criterion='gini', \n",
    "                             n_estimators=50,\n",
    "                             min_samples_split=16,\n",
    "                             min_samples_leaf=1,\n",
    "                             oob_score=True,\n",
    "                             random_state=5,\n",
    "                             n_jobs=-1) \n",
    "\n",
    "rf.fit(dataTrain.iloc[:, 1:], dataTrain.iloc[:, 0])\n",
    "print(\"%.4f\" % rf.oob_score_)"
   ]
  },
  {
   "cell_type": "code",
   "execution_count": 58,
   "metadata": {},
   "outputs": [
    {
     "data": {
      "text/html": [
       "<div>\n",
       "<style scoped>\n",
       "    .dataframe tbody tr th:only-of-type {\n",
       "        vertical-align: middle;\n",
       "    }\n",
       "\n",
       "    .dataframe tbody tr th {\n",
       "        vertical-align: top;\n",
       "    }\n",
       "\n",
       "    .dataframe thead th {\n",
       "        text-align: right;\n",
       "    }\n",
       "</style>\n",
       "<table border=\"1\" class=\"dataframe\">\n",
       "  <thead>\n",
       "    <tr style=\"text-align: right;\">\n",
       "      <th></th>\n",
       "      <th>variable</th>\n",
       "      <th>importance</th>\n",
       "    </tr>\n",
       "  </thead>\n",
       "  <tbody>\n",
       "    <tr>\n",
       "      <th>4</th>\n",
       "      <td>Sex</td>\n",
       "      <td>0.284908</td>\n",
       "    </tr>\n",
       "    <tr>\n",
       "      <th>2</th>\n",
       "      <td>Fare</td>\n",
       "      <td>0.158742</td>\n",
       "    </tr>\n",
       "    <tr>\n",
       "      <th>6</th>\n",
       "      <td>Title2</td>\n",
       "      <td>0.151055</td>\n",
       "    </tr>\n",
       "    <tr>\n",
       "      <th>0</th>\n",
       "      <td>Age</td>\n",
       "      <td>0.122335</td>\n",
       "    </tr>\n",
       "    <tr>\n",
       "      <th>3</th>\n",
       "      <td>Pclass</td>\n",
       "      <td>0.083190</td>\n",
       "    </tr>\n",
       "    <tr>\n",
       "      <th>5</th>\n",
       "      <td>Family_Size</td>\n",
       "      <td>0.073755</td>\n",
       "    </tr>\n",
       "    <tr>\n",
       "      <th>8</th>\n",
       "      <td>Cabin</td>\n",
       "      <td>0.072684</td>\n",
       "    </tr>\n",
       "    <tr>\n",
       "      <th>7</th>\n",
       "      <td>Ticket_info</td>\n",
       "      <td>0.030295</td>\n",
       "    </tr>\n",
       "    <tr>\n",
       "      <th>1</th>\n",
       "      <td>Embarked</td>\n",
       "      <td>0.023036</td>\n",
       "    </tr>\n",
       "  </tbody>\n",
       "</table>\n",
       "</div>"
      ],
      "text/plain": [
       "      variable  importance\n",
       "4          Sex    0.284908\n",
       "2         Fare    0.158742\n",
       "6       Title2    0.151055\n",
       "0          Age    0.122335\n",
       "3       Pclass    0.083190\n",
       "5  Family_Size    0.073755\n",
       "8        Cabin    0.072684\n",
       "7  Ticket_info    0.030295\n",
       "1     Embarked    0.023036"
      ]
     },
     "execution_count": 58,
     "metadata": {},
     "output_type": "execute_result"
    }
   ],
   "source": [
    "#用rf內的frature_importances函式看每個資料的重要程度\n",
    "pd.concat((pd.DataFrame(dataTrain.iloc[:, 1:].columns, columns = ['variable']), \n",
    "           pd.DataFrame(rf.feature_importances_, columns = ['importance'])), \n",
    "          axis = 1).sort_values(by='importance', ascending = False)[:20]"
   ]
  },
  {
   "cell_type": "code",
   "execution_count": 59,
   "metadata": {},
   "outputs": [
    {
     "data": {
      "text/plain": [
       "array([0., 0., 0., 0., 1., 0., 1., 0., 1., 0., 0., 0., 1., 0., 1., 1., 0.,\n",
       "       0., 0., 1., 0., 1., 1., 0., 1., 0., 1., 0., 1., 0., 0., 0., 1., 1.,\n",
       "       1., 0., 0., 0., 0., 0., 0., 1., 0., 1., 1., 0., 0., 0., 1., 1., 0.,\n",
       "       0., 1., 1., 0., 0., 0., 0., 0., 1., 0., 0., 0., 1., 1., 1., 1., 0.,\n",
       "       1., 1., 1., 0., 0., 1., 1., 0., 0., 1., 0., 1., 1., 0., 0., 0., 0.,\n",
       "       0., 1., 1., 1., 1., 1., 0., 1., 0., 0., 0., 1., 0., 0., 0., 1., 0.,\n",
       "       0., 0., 1., 0., 0., 0., 0., 0., 0., 1., 1., 1., 1., 0., 0., 1., 0.,\n",
       "       1., 1., 0., 1., 0., 0., 1., 0., 1., 0., 0., 0., 0., 0., 0., 0., 0.,\n",
       "       0., 0., 0., 0., 0., 1., 0., 0., 0., 0., 0., 0., 0., 0., 1., 0., 0.,\n",
       "       1., 0., 0., 1., 0., 1., 1., 1., 1., 1., 0., 0., 1., 0., 0., 1., 0.,\n",
       "       0., 0., 0., 0., 0., 1., 1., 0., 1., 1., 0., 1., 1., 0., 1., 0., 1.,\n",
       "       0., 0., 0., 0., 0., 1., 0., 1., 0., 1., 1., 0., 0., 1., 1., 0., 1.,\n",
       "       0., 0., 1., 0., 1., 0., 0., 0., 0., 1., 0., 0., 1., 0., 1., 0., 1.,\n",
       "       0., 1., 0., 1., 1., 0., 1., 0., 0., 0., 1., 0., 0., 0., 0., 0., 0.,\n",
       "       1., 1., 1., 1., 0., 0., 0., 0., 1., 0., 1., 1., 1., 0., 0., 0., 0.,\n",
       "       0., 0., 0., 1., 0., 0., 0., 1., 1., 0., 0., 0., 0., 0., 0., 0., 0.,\n",
       "       1., 1., 0., 1., 0., 0., 0., 0., 0., 1., 1., 1., 1., 0., 0., 0., 0.,\n",
       "       0., 0., 0., 0., 0., 0., 0., 1., 0., 0., 0., 0., 0., 0., 0., 1., 1.,\n",
       "       0., 1., 0., 1., 0., 0., 0., 1., 1., 1., 0., 0., 0., 0., 0., 0., 0.,\n",
       "       0., 1., 0., 1., 0., 0., 0., 1., 0., 0., 1., 0., 0., 0., 0., 0., 1.,\n",
       "       0., 0., 0., 1., 1., 1., 0., 1., 0., 1., 1., 0., 0., 0., 1., 0., 1.,\n",
       "       0., 0., 1., 0., 1., 1., 0., 1., 0., 0., 1., 1., 0., 0., 1., 0., 0.,\n",
       "       1., 1., 0., 0., 0., 0., 0., 0., 1., 1., 0., 1., 0., 0., 0., 0., 0.,\n",
       "       1., 1., 0., 0., 1., 0., 1., 0., 0., 1., 0., 1., 0., 1., 0., 0., 0.,\n",
       "       1., 1., 1., 1., 0., 0., 1., 0., 0., 1.])"
      ]
     },
     "execution_count": 59,
     "metadata": {},
     "output_type": "execute_result"
    }
   ],
   "source": [
    "rf.predict(dataTest)"
   ]
  },
  {
   "cell_type": "code",
   "execution_count": 60,
   "metadata": {},
   "outputs": [
    {
     "data": {
      "text/plain": [
       "array([[0.91477775, 0.08522225],\n",
       "       [0.52182262, 0.47817738],\n",
       "       [0.77585208, 0.22414792],\n",
       "       [0.7458749 , 0.2541251 ],\n",
       "       [0.34718324, 0.65281676],\n",
       "       [0.89114652, 0.10885348],\n",
       "       [0.47445727, 0.52554273],\n",
       "       [0.84204022, 0.15795978],\n",
       "       [0.30844167, 0.69155833],\n",
       "       [0.93933055, 0.06066945],\n",
       "       [0.98900747, 0.01099253],\n",
       "       [0.88959819, 0.11040181],\n",
       "       [0.04685424, 0.95314576],\n",
       "       [0.87209502, 0.12790498],\n",
       "       [0.01311981, 0.98688019],\n",
       "       [0.06510394, 0.93489606],\n",
       "       [0.91591166, 0.08408834],\n",
       "       [0.65851661, 0.34148339],\n",
       "       [0.57546966, 0.42453034],\n",
       "       [0.44825869, 0.55174131],\n",
       "       [0.76228679, 0.23771321],\n",
       "       [0.33511026, 0.66488974],\n",
       "       [0.03631342, 0.96368658],\n",
       "       [0.75489038, 0.24510962],\n",
       "       [0.15027695, 0.84972305],\n",
       "       [0.95336265, 0.04663735],\n",
       "       [0.01507971, 0.98492029],\n",
       "       [0.68899546, 0.31100454],\n",
       "       [0.44210715, 0.55789285],\n",
       "       [0.80998798, 0.19001202],\n",
       "       [0.94257763, 0.05742237],\n",
       "       [0.93460428, 0.06539572],\n",
       "       [0.30260434, 0.69739566],\n",
       "       [0.49913087, 0.50086913],\n",
       "       [0.4798555 , 0.5201445 ],\n",
       "       [0.68936243, 0.31063757],\n",
       "       [0.74533183, 0.25466817],\n",
       "       [0.71601169, 0.28398831],\n",
       "       [0.86545323, 0.13454677],\n",
       "       [0.51426497, 0.48573503],\n",
       "       [0.90620006, 0.09379994],\n",
       "       [0.40250396, 0.59749604],\n",
       "       [0.96880787, 0.03119213],\n",
       "       [0.098896  , 0.901104  ],\n",
       "       [0.00965827, 0.99034173],\n",
       "       [0.70776172, 0.29223828],\n",
       "       [0.56621241, 0.43378759],\n",
       "       [0.94507264, 0.05492736],\n",
       "       [0.03433014, 0.96566986],\n",
       "       [0.29163486, 0.70836514],\n",
       "       [0.67608786, 0.32391214],\n",
       "       [0.82633482, 0.17366518],\n",
       "       [0.0904007 , 0.9095993 ],\n",
       "       [0.15149703, 0.84850297],\n",
       "       [0.84554317, 0.15445683],\n",
       "       [0.91493302, 0.08506698],\n",
       "       [0.99818182, 0.00181818],\n",
       "       [0.89438804, 0.10561196],\n",
       "       [0.97805278, 0.02194722],\n",
       "       [0.02454842, 0.97545158],\n",
       "       [0.97115536, 0.02884464],\n",
       "       [0.86461419, 0.13538581],\n",
       "       [0.96069486, 0.03930514],\n",
       "       [0.30608259, 0.69391741],\n",
       "       [0.33438338, 0.66561662],\n",
       "       [0.12101615, 0.87898385],\n",
       "       [0.28044665, 0.71955335],\n",
       "       [0.86045472, 0.13954528],\n",
       "       [0.44745207, 0.55254793],\n",
       "       [0.25026775, 0.74973225],\n",
       "       [0.33242944, 0.66757056],\n",
       "       [0.9741302 , 0.0258698 ],\n",
       "       [0.66887717, 0.33112283],\n",
       "       [0.39887483, 0.60112517],\n",
       "       [0.0179977 , 0.9820023 ],\n",
       "       [0.52821303, 0.47178697],\n",
       "       [0.94907505, 0.05092495],\n",
       "       [0.06029637, 0.93970363],\n",
       "       [0.91533225, 0.08466775],\n",
       "       [0.33242944, 0.66757056],\n",
       "       [0.17238517, 0.82761483],\n",
       "       [0.75947413, 0.24052587],\n",
       "       [0.89883455, 0.10116545],\n",
       "       [0.98900747, 0.01099253],\n",
       "       [0.89115537, 0.10884463],\n",
       "       [0.93110997, 0.06889003],\n",
       "       [0.32391438, 0.67608562],\n",
       "       [0.47975992, 0.52024008],\n",
       "       [0.42053835, 0.57946165],\n",
       "       [0.1679151 , 0.8320849 ],\n",
       "       [0.33038959, 0.66961041],\n",
       "       [0.8248844 , 0.1751156 ],\n",
       "       [0.11381934, 0.88618066],\n",
       "       [0.94907505, 0.05092495],\n",
       "       [0.63459483, 0.36540517],\n",
       "       [0.83542108, 0.16457892],\n",
       "       [0.0373032 , 0.9626968 ],\n",
       "       [0.64089107, 0.35910893],\n",
       "       [0.55404631, 0.44595369],\n",
       "       [0.95631903, 0.04368097],\n",
       "       [0.00181818, 0.99818182],\n",
       "       [0.90952499, 0.09047501],\n",
       "       [0.94507264, 0.05492736],\n",
       "       [0.85262241, 0.14737759],\n",
       "       [0.39455685, 0.60544315],\n",
       "       [0.91413484, 0.08586516],\n",
       "       [0.80559651, 0.19440349],\n",
       "       [0.94507264, 0.05492736],\n",
       "       [0.88190103, 0.11809897],\n",
       "       [0.71170916, 0.28829084],\n",
       "       [0.84499566, 0.15500434],\n",
       "       [0.23324481, 0.76675519],\n",
       "       [0.04687706, 0.95312294],\n",
       "       [0.30686861, 0.69313139],\n",
       "       [0.10290255, 0.89709745],\n",
       "       [0.7778002 , 0.2221998 ],\n",
       "       [0.95631998, 0.04368002],\n",
       "       [0.19081681, 0.80918319],\n",
       "       [0.53953516, 0.46046484],\n",
       "       [0.05040851, 0.94959149],\n",
       "       [0.06057431, 0.93942569],\n",
       "       [0.93214166, 0.06785834],\n",
       "       [0.00643357, 0.99356643],\n",
       "       [0.87465205, 0.12534795],\n",
       "       [0.94507264, 0.05492736],\n",
       "       [0.43763158, 0.56236842],\n",
       "       [0.88265761, 0.11734239],\n",
       "       [0.32483334, 0.67516666],\n",
       "       [0.77747529, 0.22252471],\n",
       "       [0.98040333, 0.01959667],\n",
       "       [0.6352184 , 0.3647816 ],\n",
       "       [0.59565314, 0.40434686],\n",
       "       [0.73890774, 0.26109226],\n",
       "       [0.94667219, 0.05332781],\n",
       "       [0.9743274 , 0.0256726 ],\n",
       "       [0.93529529, 0.06470471],\n",
       "       [0.75037724, 0.24962276],\n",
       "       [0.95412155, 0.04587845],\n",
       "       [0.6614246 , 0.3385754 ],\n",
       "       [0.93939537, 0.06060463],\n",
       "       [0.92110426, 0.07889574],\n",
       "       [0.03133759, 0.96866241],\n",
       "       [0.68759885, 0.31240115],\n",
       "       [0.92502754, 0.07497246],\n",
       "       [0.64103596, 0.35896404],\n",
       "       [0.84439276, 0.15560724],\n",
       "       [0.55618894, 0.44381106],\n",
       "       [0.9144055 , 0.0855945 ],\n",
       "       [0.62411848, 0.37588152],\n",
       "       [0.90023312, 0.09976688],\n",
       "       [0.03165897, 0.96834103],\n",
       "       [0.94269536, 0.05730464],\n",
       "       [0.78559301, 0.21440699],\n",
       "       [0.37925365, 0.62074635],\n",
       "       [0.9070339 , 0.0929661 ],\n",
       "       [0.93822589, 0.06177411],\n",
       "       [0.03797464, 0.96202536],\n",
       "       [0.54742539, 0.45257461],\n",
       "       [0.39734559, 0.60265441],\n",
       "       [0.3570194 , 0.6429806 ],\n",
       "       [0.25433603, 0.74566397],\n",
       "       [0.16762327, 0.83237673],\n",
       "       [0.16244099, 0.83755901],\n",
       "       [0.8648712 , 0.1351288 ],\n",
       "       [0.83334651, 0.16665349],\n",
       "       [0.42227912, 0.57772088],\n",
       "       [0.67059003, 0.32940997],\n",
       "       [0.92987857, 0.07012143],\n",
       "       [0.07579048, 0.92420952],\n",
       "       [0.68714216, 0.31285784],\n",
       "       [0.98411628, 0.01588372],\n",
       "       [0.72323256, 0.27676744],\n",
       "       [0.93273151, 0.06726849],\n",
       "       [0.91493952, 0.08506048],\n",
       "       [0.91737547, 0.08262453],\n",
       "       [0.02895742, 0.97104258],\n",
       "       [0.03859358, 0.96140642],\n",
       "       [0.61856232, 0.38143768],\n",
       "       [0.12274476, 0.87725524],\n",
       "       [0.05891664, 0.94108336],\n",
       "       [0.91533225, 0.08466775],\n",
       "       [0.48116993, 0.51883007],\n",
       "       [0.04016377, 0.95983623],\n",
       "       [0.94507264, 0.05492736],\n",
       "       [0.05677888, 0.94322112],\n",
       "       [0.96194198, 0.03805802],\n",
       "       [0.06267007, 0.93732993],\n",
       "       [0.77799417, 0.22200583],\n",
       "       [0.92201609, 0.07798391],\n",
       "       [0.87225753, 0.12774247],\n",
       "       [0.92768684, 0.07231316],\n",
       "       [0.83652123, 0.16347877],\n",
       "       [0.38995038, 0.61004962],\n",
       "       [0.80887284, 0.19112716],\n",
       "       [0.2799483 , 0.7200517 ],\n",
       "       [0.89261061, 0.10738939],\n",
       "       [0.10133678, 0.89866322],\n",
       "       [0.42043029, 0.57956971],\n",
       "       [0.93517797, 0.06482203],\n",
       "       [0.55776241, 0.44223759],\n",
       "       [0.2671067 , 0.7328933 ],\n",
       "       [0.15634649, 0.84365351],\n",
       "       [0.65462967, 0.34537033],\n",
       "       [0.04318907, 0.95681093],\n",
       "       [0.93700457, 0.06299543],\n",
       "       [0.88429498, 0.11570502],\n",
       "       [0.33898005, 0.66101995],\n",
       "       [0.98206926, 0.01793074],\n",
       "       [0.12342468, 0.87657532],\n",
       "       [0.96508279, 0.03491721],\n",
       "       [0.84914908, 0.15085092],\n",
       "       [0.97331918, 0.02668082],\n",
       "       [0.8215709 , 0.1784291 ],\n",
       "       [0.13062739, 0.86937261],\n",
       "       [0.69840542, 0.30159458],\n",
       "       [0.65486183, 0.34513817],\n",
       "       [0.24370789, 0.75629211],\n",
       "       [0.61025334, 0.38974666],\n",
       "       [0.02944399, 0.97055601],\n",
       "       [0.94907505, 0.05092495],\n",
       "       [0.06181877, 0.93818123],\n",
       "       [0.9638105 , 0.0361895 ],\n",
       "       [0.16541493, 0.83458507],\n",
       "       [0.86516142, 0.13483858],\n",
       "       [0.0668995 , 0.9331005 ],\n",
       "       [0.41051496, 0.58948504],\n",
       "       [0.88408618, 0.11591382],\n",
       "       [0.25433603, 0.74566397],\n",
       "       [0.9804881 , 0.0195119 ],\n",
       "       [0.88897502, 0.11102498],\n",
       "       [0.73315938, 0.26684062],\n",
       "       [0.05922284, 0.94077716],\n",
       "       [0.8377236 , 0.1622764 ],\n",
       "       [0.96772467, 0.03227533],\n",
       "       [0.56845846, 0.43154154],\n",
       "       [0.94870756, 0.05129244],\n",
       "       [0.65479237, 0.34520763],\n",
       "       [0.65851661, 0.34148339],\n",
       "       [0.15756945, 0.84243055],\n",
       "       [0.01982322, 0.98017678],\n",
       "       [0.07679048, 0.92320952],\n",
       "       [0.06893837, 0.93106163],\n",
       "       [0.60031237, 0.39968763],\n",
       "       [0.98900747, 0.01099253],\n",
       "       [0.57161779, 0.42838221],\n",
       "       [0.51286987, 0.48713013],\n",
       "       [0.11094975, 0.88905025],\n",
       "       [0.81290207, 0.18709793],\n",
       "       [0.08522741, 0.91477259],\n",
       "       [0.4628436 , 0.5371564 ],\n",
       "       [0.10775963, 0.89224037],\n",
       "       [0.82045026, 0.17954974],\n",
       "       [0.51871387, 0.48128613],\n",
       "       [0.97451637, 0.02548363],\n",
       "       [0.75294876, 0.24705124],\n",
       "       [0.97413752, 0.02586248],\n",
       "       [0.95343546, 0.04656454],\n",
       "       [0.92127716, 0.07872284],\n",
       "       [0.17598549, 0.82401451],\n",
       "       [0.91370046, 0.08629954],\n",
       "       [0.96549723, 0.03450277],\n",
       "       [0.93632151, 0.06367849],\n",
       "       [0.09377116, 0.90622884],\n",
       "       [0.19779301, 0.80220699],\n",
       "       [0.85550647, 0.14449353],\n",
       "       [0.98900747, 0.01099253],\n",
       "       [0.94123148, 0.05876852],\n",
       "       [0.97413752, 0.02586248],\n",
       "       [0.54873335, 0.45126665],\n",
       "       [0.97155737, 0.02844263],\n",
       "       [0.67353193, 0.32646807],\n",
       "       [0.94507264, 0.05492736],\n",
       "       [0.04477661, 0.95522339],\n",
       "       [0.24204446, 0.75795554],\n",
       "       [0.95947553, 0.04052447],\n",
       "       [0.06684743, 0.93315257],\n",
       "       [0.9498305 , 0.0501695 ],\n",
       "       [0.94098921, 0.05901079],\n",
       "       [0.96661477, 0.03338523],\n",
       "       [0.91343756, 0.08656244],\n",
       "       [0.73746266, 0.26253734],\n",
       "       [0.14918963, 0.85081037],\n",
       "       [0.25433603, 0.74566397],\n",
       "       [0.43271222, 0.56728778],\n",
       "       [0.28549022, 0.71450978],\n",
       "       [0.96899683, 0.03100317],\n",
       "       [0.98411628, 0.01588372],\n",
       "       [0.61574724, 0.38425276],\n",
       "       [0.90646804, 0.09353196],\n",
       "       [0.95631903, 0.04368097],\n",
       "       [0.87926117, 0.12073883],\n",
       "       [0.54121082, 0.45878918],\n",
       "       [0.91493952, 0.08506048],\n",
       "       [0.68534401, 0.31465599],\n",
       "       [0.91892023, 0.08107977],\n",
       "       [0.97279707, 0.02720293],\n",
       "       [0.11121061, 0.88878939],\n",
       "       [0.80998798, 0.19001202],\n",
       "       [0.72315321, 0.27684679],\n",
       "       [0.80348463, 0.19651537],\n",
       "       [0.67913199, 0.32086801],\n",
       "       [0.57967801, 0.42032199],\n",
       "       [0.94294444, 0.05705556],\n",
       "       [0.9677215 , 0.0322785 ],\n",
       "       [0.25433603, 0.74566397],\n",
       "       [0.07127574, 0.92872426],\n",
       "       [0.64025378, 0.35974622],\n",
       "       [0.27955764, 0.72044236],\n",
       "       [0.715334  , 0.284666  ],\n",
       "       [0.45219537, 0.54780463],\n",
       "       [0.97155737, 0.02844263],\n",
       "       [0.68899546, 0.31100454],\n",
       "       [0.94284631, 0.05715369],\n",
       "       [0.40210697, 0.59789303],\n",
       "       [0.0415867 , 0.9584133 ],\n",
       "       [0.26711152, 0.73288848],\n",
       "       [0.62003886, 0.37996114],\n",
       "       [0.96433911, 0.03566089],\n",
       "       [0.74019015, 0.25980985],\n",
       "       [0.93547385, 0.06452615],\n",
       "       [0.85262241, 0.14737759],\n",
       "       [0.81293393, 0.18706607],\n",
       "       [0.65235452, 0.34764548],\n",
       "       [0.55543431, 0.44456569],\n",
       "       [0.04054505, 0.95945495],\n",
       "       [0.92287251, 0.07712749],\n",
       "       [0.07840097, 0.92159903],\n",
       "       [0.83550247, 0.16449753],\n",
       "       [0.91923772, 0.08076228],\n",
       "       [0.97603175, 0.02396825],\n",
       "       [0.08022029, 0.91977971],\n",
       "       [0.57427921, 0.42572079],\n",
       "       [0.95947553, 0.04052447],\n",
       "       [0.38219547, 0.61780453],\n",
       "       [0.83298504, 0.16701496],\n",
       "       [0.5678728 , 0.4321272 ],\n",
       "       [0.75346989, 0.24653011],\n",
       "       [0.89265834, 0.10734166],\n",
       "       [0.94674786, 0.05325214],\n",
       "       [0.36302846, 0.63697154],\n",
       "       [0.80578547, 0.19421453],\n",
       "       [0.75287815, 0.24712185],\n",
       "       [0.87766648, 0.12233352],\n",
       "       [0.06079752, 0.93920248],\n",
       "       [0.4169042 , 0.5830958 ],\n",
       "       [0.29205962, 0.70794038],\n",
       "       [0.95412155, 0.04587845],\n",
       "       [0.41383313, 0.58616687],\n",
       "       [0.99081537, 0.00918463],\n",
       "       [0.03723528, 0.96276472],\n",
       "       [0.01867171, 0.98132829],\n",
       "       [0.92912578, 0.07087422],\n",
       "       [0.83975272, 0.16024728],\n",
       "       [0.73578867, 0.26421133],\n",
       "       [0.27320834, 0.72679166],\n",
       "       [0.6540261 , 0.3459739 ],\n",
       "       [0.03725614, 0.96274386],\n",
       "       [0.98900747, 0.01099253],\n",
       "       [0.94507264, 0.05492736],\n",
       "       [0.35115816, 0.64884184],\n",
       "       [0.91803364, 0.08196636],\n",
       "       [0.05963475, 0.94036525],\n",
       "       [0.06870358, 0.93129642],\n",
       "       [0.7458749 , 0.2541251 ],\n",
       "       [0.04143462, 0.95856538],\n",
       "       [0.75424163, 0.24575837],\n",
       "       [0.93110997, 0.06889003],\n",
       "       [0.47523335, 0.52476665],\n",
       "       [0.02801905, 0.97198095],\n",
       "       [0.74458482, 0.25541518],\n",
       "       [0.96063276, 0.03936724],\n",
       "       [0.00517483, 0.99482517],\n",
       "       [0.88345251, 0.11654749],\n",
       "       [0.79255863, 0.20744137],\n",
       "       [0.0236651 , 0.9763349 ],\n",
       "       [0.03546177, 0.96453823],\n",
       "       [0.74314712, 0.25685288],\n",
       "       [0.97446032, 0.02553968],\n",
       "       [0.84969764, 0.15030236],\n",
       "       [0.84821895, 0.15178105],\n",
       "       [0.94507264, 0.05492736],\n",
       "       [0.86412798, 0.13587202],\n",
       "       [0.4135442 , 0.5864558 ],\n",
       "       [0.35966678, 0.64033322],\n",
       "       [0.92634327, 0.07365673],\n",
       "       [0.09419331, 0.90580669],\n",
       "       [0.91584607, 0.08415393],\n",
       "       [0.85248835, 0.14751165],\n",
       "       [0.82564979, 0.17435021],\n",
       "       [0.74014157, 0.25985843],\n",
       "       [0.64158591, 0.35841409],\n",
       "       [0.08708902, 0.91291098],\n",
       "       [0.42471669, 0.57528331],\n",
       "       [0.93343247, 0.06656753],\n",
       "       [0.91118549, 0.08881451],\n",
       "       [0.04352091, 0.95647909],\n",
       "       [0.88747402, 0.11252598],\n",
       "       [0.        , 1.        ],\n",
       "       [0.92096136, 0.07903864],\n",
       "       [0.84453004, 0.15546996],\n",
       "       [0.02702201, 0.97297799],\n",
       "       [0.96720191, 0.03279809],\n",
       "       [0.0572952 , 0.9427048 ],\n",
       "       [0.69503049, 0.30496951],\n",
       "       [0.48414563, 0.51585437],\n",
       "       [0.57734673, 0.42265327],\n",
       "       [0.95863276, 0.04136724],\n",
       "       [0.7035742 , 0.2964258 ],\n",
       "       [0.25433603, 0.74566397],\n",
       "       [0.17752891, 0.82247109],\n",
       "       [0.25433603, 0.74566397],\n",
       "       [0.00893357, 0.99106643],\n",
       "       [0.51124495, 0.48875505],\n",
       "       [0.95631903, 0.04368097],\n",
       "       [0.01539525, 0.98460475],\n",
       "       [0.9863385 , 0.0136615 ],\n",
       "       [0.94907505, 0.05092495],\n",
       "       [0.30186653, 0.69813347]])"
      ]
     },
     "execution_count": 60,
     "metadata": {},
     "output_type": "execute_result"
    }
   ],
   "source": [
    "rf.predict_proba(dataTest)"
   ]
  },
  {
   "cell_type": "code",
   "execution_count": 61,
   "metadata": {},
   "outputs": [],
   "source": [
    "rf_res =  rf.predict(dataTest)\n",
    "submit['Survived'] = rf_res\n",
    "submit['Survived'] = submit['Survived'].astype(int)\n",
    "submit.to_csv('submit.csv', index= False)"
   ]
  },
  {
   "cell_type": "code",
   "execution_count": 62,
   "metadata": {},
   "outputs": [
    {
     "data": {
      "text/html": [
       "<div>\n",
       "<style scoped>\n",
       "    .dataframe tbody tr th:only-of-type {\n",
       "        vertical-align: middle;\n",
       "    }\n",
       "\n",
       "    .dataframe tbody tr th {\n",
       "        vertical-align: top;\n",
       "    }\n",
       "\n",
       "    .dataframe thead th {\n",
       "        text-align: right;\n",
       "    }\n",
       "</style>\n",
       "<table border=\"1\" class=\"dataframe\">\n",
       "  <thead>\n",
       "    <tr style=\"text-align: right;\">\n",
       "      <th></th>\n",
       "      <th>PassengerId</th>\n",
       "      <th>Survived</th>\n",
       "    </tr>\n",
       "  </thead>\n",
       "  <tbody>\n",
       "    <tr>\n",
       "      <th>0</th>\n",
       "      <td>892</td>\n",
       "      <td>0</td>\n",
       "    </tr>\n",
       "    <tr>\n",
       "      <th>1</th>\n",
       "      <td>893</td>\n",
       "      <td>0</td>\n",
       "    </tr>\n",
       "    <tr>\n",
       "      <th>2</th>\n",
       "      <td>894</td>\n",
       "      <td>0</td>\n",
       "    </tr>\n",
       "    <tr>\n",
       "      <th>3</th>\n",
       "      <td>895</td>\n",
       "      <td>0</td>\n",
       "    </tr>\n",
       "    <tr>\n",
       "      <th>4</th>\n",
       "      <td>896</td>\n",
       "      <td>1</td>\n",
       "    </tr>\n",
       "    <tr>\n",
       "      <th>...</th>\n",
       "      <td>...</td>\n",
       "      <td>...</td>\n",
       "    </tr>\n",
       "    <tr>\n",
       "      <th>413</th>\n",
       "      <td>1305</td>\n",
       "      <td>0</td>\n",
       "    </tr>\n",
       "    <tr>\n",
       "      <th>414</th>\n",
       "      <td>1306</td>\n",
       "      <td>1</td>\n",
       "    </tr>\n",
       "    <tr>\n",
       "      <th>415</th>\n",
       "      <td>1307</td>\n",
       "      <td>0</td>\n",
       "    </tr>\n",
       "    <tr>\n",
       "      <th>416</th>\n",
       "      <td>1308</td>\n",
       "      <td>0</td>\n",
       "    </tr>\n",
       "    <tr>\n",
       "      <th>417</th>\n",
       "      <td>1309</td>\n",
       "      <td>1</td>\n",
       "    </tr>\n",
       "  </tbody>\n",
       "</table>\n",
       "<p>418 rows × 2 columns</p>\n",
       "</div>"
      ],
      "text/plain": [
       "     PassengerId  Survived\n",
       "0            892         0\n",
       "1            893         0\n",
       "2            894         0\n",
       "3            895         0\n",
       "4            896         1\n",
       "..           ...       ...\n",
       "413         1305         0\n",
       "414         1306         1\n",
       "415         1307         0\n",
       "416         1308         0\n",
       "417         1309         1\n",
       "\n",
       "[418 rows x 2 columns]"
      ]
     },
     "execution_count": 62,
     "metadata": {},
     "output_type": "execute_result"
    }
   ],
   "source": [
    "submit"
   ]
  },
  {
   "cell_type": "code",
   "execution_count": null,
   "metadata": {},
   "outputs": [],
   "source": []
  }
 ],
 "metadata": {
  "kernelspec": {
   "display_name": "Python 3",
   "language": "python",
   "name": "python3"
  },
  "language_info": {
   "codemirror_mode": {
    "name": "ipython",
    "version": 3
   },
   "file_extension": ".py",
   "mimetype": "text/x-python",
   "name": "python",
   "nbconvert_exporter": "python",
   "pygments_lexer": "ipython3",
   "version": "3.8.5"
  }
 },
 "nbformat": 4,
 "nbformat_minor": 4
}
